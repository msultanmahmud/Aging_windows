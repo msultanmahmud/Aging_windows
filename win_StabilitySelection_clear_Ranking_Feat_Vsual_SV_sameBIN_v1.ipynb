{
 "cells": [
  {
   "cell_type": "code",
   "execution_count": 1,
   "metadata": {},
   "outputs": [],
   "source": [
    "# Import library\n",
    "import pandas as pd\n",
    "import numpy as np\n",
    "from sklearn.model_selection import train_test_split,ShuffleSplit\n",
    "from sklearn import svm\n",
    "import sys\n",
    "# sys.path.append('/home/ralfahad/PythonUtility/PTE')\n",
    "# from PhaseTE_MF import PhaseTE_MF\n",
    "from scipy import stats\n",
    "import seaborn as sns\n",
    "from matplotlib import pyplot as plt\n",
    "from collections import Counter\n",
    "import warnings\n",
    "from sklearn import svm, metrics,preprocessing\n",
    "from sklearn.model_selection import train_test_split, GridSearchCV\n",
    "from sklearn.metrics import accuracy_score,confusion_matrix,roc_curve, auc,classification_report\n",
    "from matplotlib import pyplot as plt\n",
    "from collections import Counter\n",
    "from scipy.stats import norm\n",
    "# from sklearn import metrics\n",
    "# import seaborn as sns; sns.set(font_scale=1.2)\n",
    "%matplotlib inline\n",
    "warnings.filterwarnings('ignore')"
   ]
  },
  {
   "cell_type": "code",
   "execution_count": 2,
   "metadata": {},
   "outputs": [
    {
     "data": {
      "text/html": [
       "<div>\n",
       "<style scoped>\n",
       "    .dataframe tbody tr th:only-of-type {\n",
       "        vertical-align: middle;\n",
       "    }\n",
       "\n",
       "    .dataframe tbody tr th {\n",
       "        vertical-align: top;\n",
       "    }\n",
       "\n",
       "    .dataframe thead th {\n",
       "        text-align: right;\n",
       "    }\n",
       "</style>\n",
       "<table border=\"1\" class=\"dataframe\">\n",
       "  <thead>\n",
       "    <tr style=\"text-align: right;\">\n",
       "      <th></th>\n",
       "      <th>Unnamed: 0</th>\n",
       "      <th>label</th>\n",
       "      <th>0</th>\n",
       "      <th>1</th>\n",
       "      <th>2</th>\n",
       "      <th>3</th>\n",
       "      <th>4</th>\n",
       "      <th>5</th>\n",
       "      <th>6</th>\n",
       "      <th>7</th>\n",
       "      <th>...</th>\n",
       "      <th>1418</th>\n",
       "      <th>1419</th>\n",
       "      <th>1420</th>\n",
       "      <th>1421</th>\n",
       "      <th>1422</th>\n",
       "      <th>1423</th>\n",
       "      <th>1424</th>\n",
       "      <th>1425</th>\n",
       "      <th>1426</th>\n",
       "      <th>1427</th>\n",
       "    </tr>\n",
       "  </thead>\n",
       "  <tbody>\n",
       "    <tr>\n",
       "      <th>0</th>\n",
       "      <td>0</td>\n",
       "      <td>0.0</td>\n",
       "      <td>7.534168e-11</td>\n",
       "      <td>6.231124e-10</td>\n",
       "      <td>-7.806000e-10</td>\n",
       "      <td>-8.063316e-10</td>\n",
       "      <td>4.260259e-10</td>\n",
       "      <td>8.792373e-11</td>\n",
       "      <td>-2.653489e-10</td>\n",
       "      <td>2.412203e-10</td>\n",
       "      <td>...</td>\n",
       "      <td>1.956881e-10</td>\n",
       "      <td>2.334939e-10</td>\n",
       "      <td>-7.550422e-11</td>\n",
       "      <td>1.972939e-10</td>\n",
       "      <td>3.158191e-10</td>\n",
       "      <td>2.702473e-10</td>\n",
       "      <td>2.155772e-10</td>\n",
       "      <td>2.427227e-10</td>\n",
       "      <td>-1.328829e-10</td>\n",
       "      <td>-5.014970e-10</td>\n",
       "    </tr>\n",
       "    <tr>\n",
       "      <th>1</th>\n",
       "      <td>1</td>\n",
       "      <td>0.0</td>\n",
       "      <td>2.256533e-10</td>\n",
       "      <td>1.718130e-10</td>\n",
       "      <td>1.905604e-11</td>\n",
       "      <td>1.276511e-11</td>\n",
       "      <td>-1.379325e-10</td>\n",
       "      <td>-6.269328e-11</td>\n",
       "      <td>-2.930309e-10</td>\n",
       "      <td>2.040993e-10</td>\n",
       "      <td>...</td>\n",
       "      <td>2.343108e-10</td>\n",
       "      <td>2.950671e-11</td>\n",
       "      <td>-2.800265e-10</td>\n",
       "      <td>1.916018e-10</td>\n",
       "      <td>2.510715e-10</td>\n",
       "      <td>1.861655e-10</td>\n",
       "      <td>-2.830894e-10</td>\n",
       "      <td>2.069608e-10</td>\n",
       "      <td>-7.302684e-11</td>\n",
       "      <td>-2.662402e-10</td>\n",
       "    </tr>\n",
       "  </tbody>\n",
       "</table>\n",
       "<p>2 rows × 1430 columns</p>\n",
       "</div>"
      ],
      "text/plain": [
       "   Unnamed: 0  label             0             1             2             3  \\\n",
       "0           0    0.0  7.534168e-11  6.231124e-10 -7.806000e-10 -8.063316e-10   \n",
       "1           1    0.0  2.256533e-10  1.718130e-10  1.905604e-11  1.276511e-11   \n",
       "\n",
       "              4             5             6             7  ...          1418  \\\n",
       "0  4.260259e-10  8.792373e-11 -2.653489e-10  2.412203e-10  ...  1.956881e-10   \n",
       "1 -1.379325e-10 -6.269328e-11 -2.930309e-10  2.040993e-10  ...  2.343108e-10   \n",
       "\n",
       "           1419          1420          1421          1422          1423  \\\n",
       "0  2.334939e-10 -7.550422e-11  1.972939e-10  3.158191e-10  2.702473e-10   \n",
       "1  2.950671e-11 -2.800265e-10  1.916018e-10  2.510715e-10  1.861655e-10   \n",
       "\n",
       "           1424          1425          1426          1427  \n",
       "0  2.155772e-10  2.427227e-10 -1.328829e-10 -5.014970e-10  \n",
       "1 -2.830894e-10  2.069608e-10 -7.302684e-11 -2.662402e-10  \n",
       "\n",
       "[2 rows x 1430 columns]"
      ]
     },
     "execution_count": 2,
     "metadata": {},
     "output_type": "execute_result"
    }
   ],
   "source": [
    "#Load the metadata\n",
    "# path='/home/sultan/EEG/Source_Level_Analysis/25sam_10ms_clear_all_erp.csv'\n",
    "# path=\"/home/sultan/EEG/Source_Level_Analysis/50tr10ms_all_clear_erp.csv\"\n",
    "# path=\"/home/sultan/EEG/Source_Level_Analysis/75sam_10ms_clear_all_erp.csv\"\n",
    "# path=\"/home/sultan/EEG/Source_Level_Analysis/100sam_10ms_clear_all_erp.csv\"\n",
    "path=\"C:/Users/sultan/OneDrive - The University of Memphis/RESEARCH2017S/0_Source_Level_Analysis_19/FINAL_DATA_FOR_GITHUB/Source_Level_Analysis/100sam_10ms_clear_all_erp.csv\"\n",
    "# path=\"/home/sultan/EEG/Source_Level_Analysis/125sam_10ms_clear_all_erp.csv\"\n",
    "Metadata=pd.read_csv(path)\n",
    "Metadata.head(2)"
   ]
  },
  {
   "cell_type": "code",
   "execution_count": 3,
   "metadata": {},
   "outputs": [],
   "source": [
    "# ##Load the metadata\n",
    "# # path='/home/sultan/EEG/Source_Level_Analysis/25sam_10ms_noise_all_erp.csv'\n",
    "# # path='/home/sultan/EEG/Source_Level_Analysis/50Tr10msnoise_all_erp.csv'\n",
    "# # path=\"/home/sultan/EEG/Source_Level_Analysis/75sam_10ms_noise_all_erp.csv\"\n",
    "# path=\"/home/sultan/EEG/Source_Level_Analysis/100sam_10ms_noise_all_erp.csv\"\n",
    "# # path=\"/home/sultan/EEG/Source_Level_Analysis/125sam_10ms_noise_all_erp.csv\"\n",
    "# Metadata=pd.read_csv(path)\n",
    "# Metadata.head(2)"
   ]
  },
  {
   "cell_type": "code",
   "execution_count": 4,
   "metadata": {},
   "outputs": [
    {
     "data": {
      "text/plain": [
       "((1863, 1428), (1863,))"
      ]
     },
     "execution_count": 4,
     "metadata": {},
     "output_type": "execute_result"
    }
   ],
   "source": [
    "X=Metadata.iloc[:,2:]\n",
    "y=Metadata['label']\n",
    "X.shape,y.shape"
   ]
  },
  {
   "cell_type": "markdown",
   "metadata": {},
   "source": [
    "# Apply SVM on Data"
   ]
  },
  {
   "cell_type": "code",
   "execution_count": 5,
   "metadata": {},
   "outputs": [
    {
     "data": {
      "text/plain": [
       "array([1.e-02, 1.e-01, 1.e+00, 1.e+01, 1.e+02])"
      ]
     },
     "execution_count": 5,
     "metadata": {},
     "output_type": "execute_result"
    }
   ],
   "source": [
    "gamma_range = np.logspace(-2, 2, 5)\n",
    "gamma_range"
   ]
  },
  {
   "cell_type": "code",
   "execution_count": 6,
   "metadata": {},
   "outputs": [
    {
     "name": "stdout",
     "output_type": "stream",
     "text": [
      "(1863, 1428) (1863,)\n",
      "[1.e-02 1.e-01 1.e+00 1.e+01 1.e+02] [0.01, 0.002, 0.00069, 0.0007, 0.0005]\n"
     ]
    }
   ],
   "source": [
    "from sklearn import preprocessing\n",
    "# X=preprocessing.scale(X)\n",
    "scaler = preprocessing.StandardScaler()\n",
    "X = scaler.fit_transform(X)\n",
    "print (X.shape,y.shape)\n",
    "from sklearn.preprocessing import label_binarize\n",
    "y=label_binarize(np.asarray(y),[0,1])\n",
    "\n",
    "#C_range = np.logspace(-2, 10, 13)\n",
    "# gamma_range = np.logspace(-2, 2, 5)\n",
    "gamma_range = [0.01,0.002,0.00069,0.0007,0.0005]\n",
    "C_range = np.logspace(-2, 2, 5)\n",
    "#gamma_range = np.logspace(-2, 2, 5)\n",
    "\n",
    "print (C_range,gamma_range)\n"
   ]
  },
  {
   "cell_type": "code",
   "execution_count": 7,
   "metadata": {},
   "outputs": [
    {
     "name": "stdout",
     "output_type": "stream",
     "text": [
      "Fitting 5 folds for each of 25 candidates, totalling 125 fits\n"
     ]
    },
    {
     "name": "stderr",
     "output_type": "stream",
     "text": [
      "[Parallel(n_jobs=-1)]: Using backend LokyBackend with 8 concurrent workers.\n",
      "[Parallel(n_jobs=-1)]: Done  34 tasks      | elapsed:  1.9min\n",
      "[Parallel(n_jobs=-1)]: Done 125 out of 125 | elapsed:  5.7min finished\n"
     ]
    },
    {
     "name": "stdout",
     "output_type": "stream",
     "text": [
      "Finish tuning\n"
     ]
    }
   ],
   "source": [
    "#Classifiaction:\n",
    "# #Splitting\n",
    "from sklearn import preprocessing\n",
    "X_train, X_test, y_train, y_test = train_test_split(X, y, test_size=0.20,random_state=92)\n",
    "cv = ShuffleSplit(X_train.shape[0], test_size=0.20, random_state=92)\n",
    "\n",
    "# Define Classifier\n",
    "svr = svm.SVC(kernel='rbf')\n",
    "\n",
    "# Deffine tuning parameter\n",
    "C_range = np.logspace(-2, 2, 5)\n",
    "# gamma_range = np.logspace(-2, 2, 5)\n",
    "gamma_range = [0.01,0.002,0.00069,0.0007,0.0005]\n",
    "param_grid = dict(gamma=gamma_range, C=C_range)\n",
    "clf_Tune = GridSearchCV(estimator=svr, cv=5, param_grid=param_grid,n_jobs=-1, verbose=True)\n",
    "clf_Tune.fit(X_train,y_train)\n",
    "print ('Finish tuning' )     "
   ]
  },
  {
   "cell_type": "code",
   "execution_count": 8,
   "metadata": {},
   "outputs": [
    {
     "name": "stdout",
     "output_type": "stream",
     "text": [
      "              precision    recall  f1-score   support\n",
      "\n",
      "           0       0.96      0.84      0.89       159\n",
      "           1       0.89      0.97      0.93       214\n",
      "\n",
      "   micro avg       0.91      0.91      0.91       373\n",
      "   macro avg       0.92      0.90      0.91       373\n",
      "weighted avg       0.92      0.91      0.91       373\n",
      "\n",
      "0.9142091152815014\n",
      "0.9042203021219068\n"
     ]
    }
   ],
   "source": [
    "y_p = clf_Tune.best_estimator_.predict(X_test)\n",
    "ACC=classification_report(y_test, y_p)\n",
    "print (ACC)\n",
    "ACC_AVG=accuracy_score(y_test, y_p)\n",
    "print (ACC_AVG)\n",
    "fpr, tpr, thresholds = metrics.roc_curve(y_test,y_p)\n",
    "AUC_Th2_T=metrics.auc(fpr, tpr)\n",
    "print (AUC_Th2_T)"
   ]
  },
  {
   "cell_type": "code",
   "execution_count": 9,
   "metadata": {},
   "outputs": [
    {
     "name": "stdout",
     "output_type": "stream",
     "text": [
      "Accuracy: 0.9142091152815014\n",
      "support: 65.30201342281879\n"
     ]
    }
   ],
   "source": [
    "y_p=clf_Tune.best_estimator_.predict(X_test)\n",
    "print (\"Accuracy:\", clf_Tune.score(X_test, y_test))  \n",
    "# print pred\n",
    "# print y_test\n",
    "print (\"support:\", len(clf_Tune.best_estimator_.support_vectors_)*100.0/(X_train.shape[0]))"
   ]
  },
  {
   "cell_type": "code",
   "execution_count": 10,
   "metadata": {},
   "outputs": [
    {
     "data": {
      "text/plain": [
       "{'C': 10.0, 'gamma': 0.00069}"
      ]
     },
     "execution_count": 10,
     "metadata": {},
     "output_type": "execute_result"
    }
   ],
   "source": [
    "# print 'Validation accuracy={}, best {}' .format(clf_Tune.best_score_,clf_Tune.best_params_)\n",
    "clf_Tune.best_params_\n",
    "# clf_Tune.best_estimator_"
   ]
  },
  {
   "cell_type": "code",
   "execution_count": 11,
   "metadata": {},
   "outputs": [],
   "source": [
    "# # Utility function to move the midpoint of a colormap to be around\n",
    "# # the values of interest.\n",
    "# from matplotlib.colors import Normalize\n",
    "# class MidpointNormalize(Normalize):\n",
    "\n",
    "#     def __init__(self, vmin=None, vmax=None, midpoint=None, clip=False):\n",
    "#         self.midpoint = midpoint\n",
    "#         Normalize.__init__(self, vmin, vmax, clip)\n",
    "\n",
    "#     def __call__(self, value, clip=None):\n",
    "#         x, y = [self.vmin, self.midpoint, self.vmax], [0, 0.5, 1]\n",
    "#         return np.ma.masked_array(np.interp(value, x, y))\n",
    "    \n",
    "# scores = clf_Tune.cv_results_['mean_test_score'].reshape(len(C_range),len(gamma_range))\n",
    "# #print scores.shape,len(C_range),len(gamma_range)\n",
    "# plt.figure(figsize=(8, 6))\n",
    "# #plt.subplots_adjust(left=.2, right=0.95, bottom=0.15, top=0.95)\n",
    "# plt.imshow(scores, interpolation='nearest', cmap=plt.cm.hot, norm=MidpointNormalize(vmin=0.2, midpoint=0.92))\n",
    "# plt.xlabel('gamma')\n",
    "# plt.ylabel('C')\n",
    "# plt.colorbar()\n",
    "# plt.xticks(np.arange(len(gamma_range)), gamma_range, rotation=45)\n",
    "# plt.yticks(np.arange(len(C_range)), C_range)\n",
    "# plt.title('Validation accuracy={}, best {}' .format(clf_Tune.best_score_,clf_Tune.best_params_))\n",
    "\n",
    "# #filename='ParameterTuning'\n",
    "# #save_format='png'\n",
    "# #print filename+'.'+save_format\n",
    "# #pp='home/ralfahad/Pictures'\n",
    "# #plt.savefig(filename+'.'+save_format,dpi=100)\n",
    "# #plt.show()"
   ]
  },
  {
   "cell_type": "markdown",
   "metadata": {},
   "source": [
    "# Find Significant correlation with stability selections "
   ]
  },
  {
   "cell_type": "markdown",
   "metadata": {},
   "source": [
    "### Make the dataset"
   ]
  },
  {
   "cell_type": "code",
   "execution_count": 12,
   "metadata": {},
   "outputs": [
    {
     "data": {
      "text/plain": [
       "array([-0.76432469,  1.32792655, -2.91754842, -3.32632635,  2.68795091,\n",
       "        0.78058946, -0.44020117,  0.92741514,  0.30042852,  0.71271032])"
      ]
     },
     "execution_count": 12,
     "metadata": {},
     "output_type": "execute_result"
    }
   ],
   "source": [
    "# Pre Processing \n",
    "X[0,:10]"
   ]
  },
  {
   "cell_type": "code",
   "execution_count": 13,
   "metadata": {},
   "outputs": [
    {
     "name": "stdout",
     "output_type": "stream",
     "text": [
      "(1863, 1428) (1863, 1)\n"
     ]
    }
   ],
   "source": [
    "from sklearn import preprocessing\n",
    "X=preprocessing.scale(X)\n",
    "# scaler = preprocessing.StandardScaler()\n",
    "# X = scaler.fit_transform(X)\n",
    "print(X.shape,y.shape)\n",
    "from sklearn.preprocessing import label_binarize\n",
    "y=label_binarize(np.asarray(y),[0,1])"
   ]
  },
  {
   "cell_type": "code",
   "execution_count": 14,
   "metadata": {},
   "outputs": [],
   "source": [
    "# np.var(X[:,1])"
   ]
  },
  {
   "cell_type": "markdown",
   "metadata": {},
   "source": [
    "### Randomized Logistic Regression "
   ]
  },
  {
   "cell_type": "code",
   "execution_count": 15,
   "metadata": {},
   "outputs": [],
   "source": [
    "from sklearn.linear_model import (RandomizedLasso, lasso_stability_path,LassoLarsCV)\n",
    "from sklearn.exceptions import ConvergenceWarning\n",
    "\n",
    "#Model Library\n",
    "from sklearn.linear_model import (RandomizedLasso, lasso_stability_path, LassoLarsCV)\n",
    "from sklearn.model_selection import GridSearchCV\n",
    "from sklearn.linear_model import LogisticRegression, RandomizedLogisticRegression\n",
    "from sklearn import svm\n",
    "\n",
    "# Performance analysis library \n",
    "from sklearn.model_selection import KFold, cross_val_score, LeaveOneOut, cross_val_predict\n",
    "from sklearn.metrics import precision_recall_curve\n",
    "from sklearn.metrics import average_precision_score\n",
    "from sklearn.metrics import accuracy_score\n",
    "from sklearn.metrics import roc_curve,auc\n",
    "from sklearn.metrics import classification_report\n",
    "from sklearn.metrics import confusion_matrix\n",
    "\n",
    "\n",
    "# preprocessing\n",
    "from sklearn.preprocessing import Imputer\n",
    "from sklearn.model_selection import train_test_split # test train split\n",
    "from sklearn.model_selection import ShuffleSplit"
   ]
  },
  {
   "cell_type": "code",
   "execution_count": 16,
   "metadata": {},
   "outputs": [
    {
     "data": {
      "text/plain": [
       "array([0.00395078])"
      ]
     },
     "execution_count": 16,
     "metadata": {},
     "output_type": "execute_result"
    }
   ],
   "source": [
    "with warnings.catch_warnings():\n",
    "    #warnings.simplefilter('ignore', UserWarning)\n",
    "    warnings.simplefilter('ignore', ConvergenceWarning)\n",
    "    lars_cv = LassoLarsCV(cv=5).fit(X, y)\n",
    "# print lars_cv.alpha_\n",
    "lars_cv.alphas_"
   ]
  },
  {
   "cell_type": "code",
   "execution_count": 17,
   "metadata": {},
   "outputs": [
    {
     "name": "stdout",
     "output_type": "stream",
     "text": [
      "[0.00395078 0.0035557  0.00316062 0.00276555 0.00237047 0.00197539\n",
      " 0.00158031 0.00118523 0.00079016 0.00039508]\n"
     ]
    }
   ],
   "source": [
    "# Run the RandomizedLasso: we use a paths going down to .1*alpha_max\n",
    "# to avoid exploring the regime in which very noisy variables enter\n",
    "# the model\n",
    "alphas = np.linspace(lars_cv.alphas_[0], .1 * lars_cv.alphas_[0], 10)\n",
    "print (alphas)\n",
    "clf = RandomizedLasso(alpha=alphas, random_state=92,max_iter=1000).fit(X, y)"
   ]
  },
  {
   "cell_type": "code",
   "execution_count": 18,
   "metadata": {},
   "outputs": [
    {
     "data": {
      "text/plain": [
       "array([0.035, 0.01 , 0.01 , ..., 0.16 , 0.01 , 0.   ])"
      ]
     },
     "execution_count": 18,
     "metadata": {},
     "output_type": "execute_result"
    }
   ],
   "source": [
    "clf.scores_"
   ]
  },
  {
   "cell_type": "code",
   "execution_count": 19,
   "metadata": {},
   "outputs": [],
   "source": [
    "# # Rank the Features according to the importance\n",
    "# names=range(0,1428) # Feature names used as 1-1428 features\n",
    "# cn=np.asarray(names) # converted as numpy.ndarray\n",
    "# # print \"Features sorted by their score:\"\n",
    "# b= sorted(zip(map(lambda x: round(x, 4), clf.scores_), cn), reverse=True)\n",
    "# bb=np.asarray(b)\n",
    "# rakfe=bb[bb[:,0]>0.34]\n",
    "# ROIs=rakfe[:,1]%68"
   ]
  },
  {
   "cell_type": "code",
   "execution_count": 20,
   "metadata": {},
   "outputs": [],
   "source": [
    "# # print \"Features sorted by their score:\"\n",
    "# b= sorted(zip(map(lambda x: round(x, 4), clf.scores_), \n",
    "#                  cn), reverse=True)"
   ]
  },
  {
   "cell_type": "code",
   "execution_count": 21,
   "metadata": {},
   "outputs": [],
   "source": [
    "# bb=np.asarray(b)\n",
    "# # rf=np.where(bb[:,0]>0.7)\n",
    "# # ifea=np.squeeze(np.asarray(np.where(clf.scores_>=0.815)))\n",
    "# ra=bb[bb[:,0]>0.50]\n",
    "# # r=bb[e]\n",
    "# ra[:,1]%68"
   ]
  },
  {
   "cell_type": "code",
   "execution_count": 22,
   "metadata": {},
   "outputs": [],
   "source": [
    "# ind=np.where(clf.scores_>=0.710)\n",
    "# ind"
   ]
  },
  {
   "cell_type": "code",
   "execution_count": 23,
   "metadata": {},
   "outputs": [
    {
     "data": {
      "image/png": "[encoded data removed]",
      "text/plain": [
       "<Figure size 432x288 with 1 Axes>"
      ]
     },
     "metadata": {
      "needs_background": "light"
     },
     "output_type": "display_data"
    }
   ],
   "source": [
    "from matplotlib.ticker import FormatStrFormatter\n",
    "data=clf.scores_\n",
    "fig, ax = plt.subplots()\n",
    "counts, bins, patches = ax.hist(data,9 ,edgecolor='gray')\n",
    "\n",
    "# Set the ticks to be at the edges of the bins.\n",
    "ax.set_xticks(bins)\n",
    "\n",
    "# Set the xaxis's tick labels to be formatted with 1 decimal place...\n",
    "ax.xaxis.set_major_formatter(FormatStrFormatter('%0.1f'))\n",
    "\n",
    "\n",
    "# Label the raw counts and the percentages below the x-axis...\n",
    "bin_centers = 0.5 * np.diff(bins) + bins[:-1]\n",
    "for count, x in zip(counts, bin_centers):\n",
    "    # Label the raw counts\n",
    "    ax.annotate(str(count), xy=(x, 0), xycoords=('data', 'axes fraction'),\n",
    "        xytext=(0, -18), textcoords='offset points', va='top', ha='center')\n",
    "\n",
    "    # Label the percentages\n",
    "    percent = '%0.0f%%' % (100 * float(count) / counts.sum())\n",
    "    ax.annotate(percent, xy=(x, 0), xycoords=('data', 'axes fraction'),\n",
    "        xytext=(0, -32), textcoords='offset points', va='top', ha='center')\n",
    "\n",
    "\n",
    "# Give ourselves some more room at the bottom of the plot\n",
    "plt.subplots_adjust(bottom=0.15)\n",
    "plt.grid(True)\n",
    "plt.show()"
   ]
  },
  {
   "cell_type": "markdown",
   "metadata": {},
   "source": [
    "### Find the optimal threshold"
   ]
  },
  {
   "cell_type": "code",
   "execution_count": 24,
   "metadata": {},
   "outputs": [
    {
     "data": {
      "text/plain": [
       "array([0.        , 0.09388889, 0.18777778, 0.28166667, 0.37555556,\n",
       "       0.46944444, 0.56333333, 0.65722222, 0.75111111, 0.845     ])"
      ]
     },
     "execution_count": 24,
     "metadata": {},
     "output_type": "execute_result"
    }
   ],
   "source": [
    "bins"
   ]
  },
  {
   "cell_type": "code",
   "execution_count": 25,
   "metadata": {},
   "outputs": [
    {
     "name": "stdout",
     "output_type": "stream",
     "text": [
      "[0.         0.09388889 0.18777778 0.28166667 0.37555556 0.46944444\n",
      " 0.56333333 0.65722222 0.75111111 0.845     ]\n",
      "[0.         0.09388889 0.18777778 0.28166667 0.37555556 0.46944444\n",
      " 0.56333333 0.65722222 0.75111111 0.845     ]\n"
     ]
    }
   ],
   "source": [
    "Th_2_Bins_Index= np.where((bins<=1.0) & (bins>=0.0)) # take the bins within a range\n",
    "# print Th_2_Bins_Index\n",
    "print (bins)\n",
    "Th_2_Bins=bins[Th_2_Bins_Index]\n",
    "print (Th_2_Bins)"
   ]
  },
  {
   "cell_type": "code",
   "execution_count": 26,
   "metadata": {},
   "outputs": [
    {
     "name": "stdout",
     "output_type": "stream",
     "text": [
      "(1863, 1428) (1863, 1)\n",
      "(1490, 1428) (373, 1428) (1490, 1) (373, 1)\n"
     ]
    }
   ],
   "source": [
    "from sklearn import preprocessing\n",
    "X=preprocessing.scale(X)\n",
    "print (X.shape,y.shape)\n",
    "from sklearn.preprocessing import label_binarize\n",
    "y=label_binarize(np.asarray(y),[0,1])\n",
    "\n",
    "X_train, X_test, y_train, y_test = train_test_split(X, y, test_size=0.2, random_state=92)\n",
    "print (X_train.shape, X_test.shape, y_train.shape, y_test.shape)"
   ]
  },
  {
   "cell_type": "code",
   "execution_count": 27,
   "metadata": {},
   "outputs": [
    {
     "data": {
      "text/plain": [
       "array([[-0.79197274,  2.7838314 ,  2.18031617, ...,  0.14959239,\n",
       "        -1.99548485, -2.84134498],\n",
       "       [-0.33572768, -2.5921579 , -2.13374278, ..., -0.93984522,\n",
       "         2.02467195,  2.61420405],\n",
       "       [ 0.9844153 , -2.19640658, -1.48143186, ..., -1.50449258,\n",
       "         2.14738738,  2.81531171],\n",
       "       ...,\n",
       "       [-0.11624771,  1.56730923,  2.00606893, ..., -0.37015069,\n",
       "         0.45745785,  0.12915355],\n",
       "       [-0.31195053, -0.64063873, -0.70753496, ...,  0.32717497,\n",
       "        -1.68209631, -0.8625357 ],\n",
       "       [-0.75079028, -0.20910409,  0.24086477, ..., -1.87496072,\n",
       "         1.75614211,  0.58693523]])"
      ]
     },
     "execution_count": 27,
     "metadata": {},
     "output_type": "execute_result"
    }
   ],
   "source": [
    "X_train[:,1:10]"
   ]
  },
  {
   "cell_type": "code",
   "execution_count": 28,
   "metadata": {},
   "outputs": [
    {
     "data": {
      "text/plain": [
       "numpy.ndarray"
      ]
     },
     "execution_count": 28,
     "metadata": {},
     "output_type": "execute_result"
    }
   ],
   "source": [
    "type(X_train)#[:,np.squeeze(np.asarray(np.where(clf.scores_>=0.16)))].shape#,y_train"
   ]
  },
  {
   "cell_type": "code",
   "execution_count": 29,
   "metadata": {},
   "outputs": [
    {
     "name": "stdout",
     "output_type": "stream",
     "text": [
      "Fitting 5 folds for each of 65 candidates, totalling 325 fits\n"
     ]
    },
    {
     "name": "stderr",
     "output_type": "stream",
     "text": [
      "[Parallel(n_jobs=-1)]: Using backend LokyBackend with 8 concurrent workers.\n",
      "[Parallel(n_jobs=-1)]: Done  34 tasks      | elapsed:  1.9min\n",
      "[Parallel(n_jobs=-1)]: Done 184 tasks      | elapsed:  8.4min\n",
      "[Parallel(n_jobs=-1)]: Done 325 out of 325 | elapsed: 14.3min finished\n"
     ]
    },
    {
     "data": {
      "text/plain": [
       "GridSearchCV(cv=5, error_score='raise-deprecating',\n",
       "       estimator=SVC(C=1.0, cache_size=200, class_weight=None, coef0=0.0,\n",
       "  decision_function_shape='ovr', degree=3, gamma='auto_deprecated',\n",
       "  kernel='rbf', max_iter=-1, probability=False, random_state=None,\n",
       "  shrinking=True, tol=0.001, verbose=False),\n",
       "       fit_params=None, iid='warn', n_jobs=-1,\n",
       "       param_grid={'gamma': [0.01, 0.002, 0.00069, 0.0007, 0.0005], 'C': [1, 2, 4, 6, 8, 10, 12, 15, 16, 20, 30, 40, 100]},\n",
       "       pre_dispatch='2*n_jobs', refit=True, return_train_score='warn',\n",
       "       scoring=None, verbose=True)"
      ]
     },
     "execution_count": 29,
     "metadata": {},
     "output_type": "execute_result"
    }
   ],
   "source": [
    "# C_range = np.logspace(-2, 2, 5)\n",
    "C_range = [1,2,4,6,8,10,12,15,16,20,30,40,100]\n",
    "gamma_range = [0.01,0.002,0.00069,0.0007,0.0005]\n",
    "# gamma_range = np.logspace(-2, 2, 5)\n",
    "param_grid = dict(gamma=gamma_range, C=C_range)\n",
    "#clf_Tune = GridSearchCV(estimator=svr, cv=1, param_grid=param_grid,n_jobs=-1)\n",
    "clf_Tune = GridSearchCV(estimator=svr, cv=5, param_grid=param_grid,n_jobs=-1, verbose=True)\n",
    "clf_Tune.fit(X_train[:,np.squeeze(np.asarray(np.where(clf.scores_>=Th_2_Bins[0])))],y_train)"
   ]
  },
  {
   "cell_type": "code",
   "execution_count": 30,
   "metadata": {},
   "outputs": [
    {
     "name": "stdout",
     "output_type": "stream",
     "text": [
      "0.9088471849865952\n"
     ]
    }
   ],
   "source": [
    "# use tuned parameter on to get model\n",
    "y_p = clf_Tune.best_estimator_.predict(X_test[:,np.squeeze(np.asarray(np.where(clf.scores_>=Th_2_Bins[0])))])\n",
    "\n",
    "print (accuracy_score(y_test, y_p))"
   ]
  },
  {
   "cell_type": "code",
   "execution_count": 31,
   "metadata": {},
   "outputs": [
    {
     "name": "stdout",
     "output_type": "stream",
     "text": [
      "0.0\n",
      "(1490, 1428)\n",
      "Fitting 5 folds for each of 25 candidates, totalling 125 fits\n"
     ]
    },
    {
     "name": "stderr",
     "output_type": "stream",
     "text": [
      "[Parallel(n_jobs=-1)]: Using backend LokyBackend with 8 concurrent workers.\n",
      "[Parallel(n_jobs=-1)]: Done  34 tasks      | elapsed:  1.8min\n",
      "[Parallel(n_jobs=-1)]: Done 125 out of 125 | elapsed:  6.3min finished\n"
     ]
    },
    {
     "name": "stdout",
     "output_type": "stream",
     "text": [
      "(1490, 1428) (1490, 1)\n",
      "Finish tuning\n",
      "SVC(C=10.0, cache_size=200, class_weight=None, coef0=0.0,\n",
      "  decision_function_shape='ovr', degree=3, gamma=0.002, kernel='rbf',\n",
      "  max_iter=-1, probability=False, random_state=None, shrinking=True,\n",
      "  tol=0.001, verbose=False)\n",
      "Shape (373, 1428)\n",
      "ACC 0.8445040214477212 0.8216510903426791\n",
      "0.889261744966443\n",
      "0.09388888888888888\n",
      "(1490, 283)\n",
      "Fitting 5 folds for each of 25 candidates, totalling 125 fits\n"
     ]
    },
    {
     "name": "stderr",
     "output_type": "stream",
     "text": [
      "[Parallel(n_jobs=-1)]: Using backend LokyBackend with 8 concurrent workers.\n",
      "[Parallel(n_jobs=-1)]: Done  34 tasks      | elapsed:   18.3s\n",
      "[Parallel(n_jobs=-1)]: Done 125 out of 125 | elapsed:   56.7s finished\n"
     ]
    },
    {
     "name": "stdout",
     "output_type": "stream",
     "text": [
      "(1490, 283) (1490, 1)\n",
      "Finish tuning\n",
      "SVC(C=10.0, cache_size=200, class_weight=None, coef0=0.0,\n",
      "  decision_function_shape='ovr', degree=3, gamma=0.002, kernel='rbf',\n",
      "  max_iter=-1, probability=False, random_state=None, shrinking=True,\n",
      "  tol=0.001, verbose=False)\n",
      "Shape (373, 283)\n",
      "ACC 0.9115281501340483 0.9059248809733733\n",
      "0.44966442953020136\n",
      "0.18777777777777777\n",
      "(1490, 187)\n",
      "Fitting 5 folds for each of 25 candidates, totalling 125 fits\n"
     ]
    },
    {
     "name": "stderr",
     "output_type": "stream",
     "text": [
      "[Parallel(n_jobs=-1)]: Using backend LokyBackend with 8 concurrent workers.\n",
      "[Parallel(n_jobs=-1)]: Done  34 tasks      | elapsed:    8.8s\n",
      "[Parallel(n_jobs=-1)]: Done 125 out of 125 | elapsed:   25.6s finished\n"
     ]
    },
    {
     "name": "stdout",
     "output_type": "stream",
     "text": [
      "(1490, 187) (1490, 1)\n",
      "Finish tuning\n",
      "SVC(C=10.0, cache_size=200, class_weight=None, coef0=0.0,\n",
      "  decision_function_shape='ovr', degree=3, gamma=0.002, kernel='rbf',\n",
      "  max_iter=-1, probability=False, random_state=None, shrinking=True,\n",
      "  tol=0.001, verbose=False)\n",
      "Shape (373, 187)\n",
      "ACC 0.900804289544236 0.8957708810909306\n",
      "0.3912751677852349\n",
      "0.2816666666666666\n",
      "(1490, 128)\n",
      "Fitting 5 folds for each of 25 candidates, totalling 125 fits\n"
     ]
    },
    {
     "name": "stderr",
     "output_type": "stream",
     "text": [
      "[Parallel(n_jobs=-1)]: Using backend LokyBackend with 8 concurrent workers.\n",
      "[Parallel(n_jobs=-1)]: Done  34 tasks      | elapsed:    5.0s\n",
      "[Parallel(n_jobs=-1)]: Done 125 out of 125 | elapsed:   15.3s finished\n"
     ]
    },
    {
     "name": "stdout",
     "output_type": "stream",
     "text": [
      "(1490, 128) (1490, 1)\n",
      "Finish tuning\n",
      "SVC(C=10.0, cache_size=200, class_weight=None, coef0=0.0,\n",
      "  decision_function_shape='ovr', degree=3, gamma=0.01, kernel='rbf',\n",
      "  max_iter=-1, probability=False, random_state=None, shrinking=True,\n",
      "  tol=0.001, verbose=False)\n",
      "Shape (373, 128)\n",
      "ACC 0.9088471849865952 0.902780226885323\n",
      "0.5973154362416108\n",
      "0.37555555555555553\n",
      "(1490, 69)\n",
      "Fitting 5 folds for each of 25 candidates, totalling 125 fits\n"
     ]
    },
    {
     "name": "stderr",
     "output_type": "stream",
     "text": [
      "[Parallel(n_jobs=-1)]: Using backend LokyBackend with 8 concurrent workers.\n",
      "[Parallel(n_jobs=-1)]: Done  34 tasks      | elapsed:    3.4s\n",
      "[Parallel(n_jobs=-1)]: Done 125 out of 125 | elapsed:   10.3s finished\n"
     ]
    },
    {
     "name": "stdout",
     "output_type": "stream",
     "text": [
      "(1490, 69) (1490, 1)\n",
      "Finish tuning\n",
      "SVC(C=1.0, cache_size=200, class_weight=None, coef0=0.0,\n",
      "  decision_function_shape='ovr', degree=3, gamma=0.01, kernel='rbf',\n",
      "  max_iter=-1, probability=False, random_state=None, shrinking=True,\n",
      "  tol=0.001, verbose=False)\n",
      "Shape (373, 69)\n",
      "ACC 0.8659517426273459 0.854082172456357\n",
      "0.4671140939597315\n",
      "0.46944444444444444\n",
      "(1490, 27)\n",
      "Fitting 5 folds for each of 25 candidates, totalling 125 fits\n"
     ]
    },
    {
     "name": "stderr",
     "output_type": "stream",
     "text": [
      "[Parallel(n_jobs=-1)]: Using backend LokyBackend with 8 concurrent workers.\n",
      "[Parallel(n_jobs=-1)]: Done  34 tasks      | elapsed:    2.0s\n",
      "[Parallel(n_jobs=-1)]: Done 125 out of 125 | elapsed:    5.7s finished\n"
     ]
    },
    {
     "name": "stdout",
     "output_type": "stream",
     "text": [
      "(1490, 27) (1490, 1)\n",
      "Finish tuning\n",
      "SVC(C=100.0, cache_size=200, class_weight=None, coef0=0.0,\n",
      "  decision_function_shape='ovr', degree=3, gamma=0.01, kernel='rbf',\n",
      "  max_iter=-1, probability=False, random_state=None, shrinking=True,\n",
      "  tol=0.001, verbose=False)\n",
      "Shape (373, 27)\n",
      "ACC 0.8445040214477212 0.8394316111209076\n",
      "0.3275167785234899\n",
      "0.5633333333333332\n",
      "(1490, 5)\n",
      "Fitting 5 folds for each of 25 candidates, totalling 125 fits\n"
     ]
    },
    {
     "name": "stderr",
     "output_type": "stream",
     "text": [
      "[Parallel(n_jobs=-1)]: Using backend LokyBackend with 8 concurrent workers.\n",
      "[Parallel(n_jobs=-1)]: Done  52 tasks      | elapsed:    1.5s\n",
      "[Parallel(n_jobs=-1)]: Done 110 out of 125 | elapsed:    4.0s remaining:    0.5s\n",
      "[Parallel(n_jobs=-1)]: Done 125 out of 125 | elapsed:    4.2s finished\n",
      "[Parallel(n_jobs=-1)]: Using backend LokyBackend with 8 concurrent workers.\n"
     ]
    },
    {
     "name": "stdout",
     "output_type": "stream",
     "text": [
      "(1490, 5) (1490, 1)\n",
      "Finish tuning\n",
      "SVC(C=1.0, cache_size=200, class_weight=None, coef0=0.0,\n",
      "  decision_function_shape='ovr', degree=3, gamma=0.25, kernel='rbf',\n",
      "  max_iter=-1, probability=False, random_state=None, shrinking=True,\n",
      "  tol=0.001, verbose=False)\n",
      "Shape (373, 5)\n",
      "ACC 0.6863270777479893 0.6684447187444895\n",
      "0.7221476510067114\n",
      "0.6572222222222222\n",
      "(1490, 4)\n",
      "Fitting 5 folds for each of 25 candidates, totalling 125 fits\n"
     ]
    },
    {
     "name": "stderr",
     "output_type": "stream",
     "text": [
      "[Parallel(n_jobs=-1)]: Done  52 tasks      | elapsed:    1.4s\n",
      "[Parallel(n_jobs=-1)]: Done 110 out of 125 | elapsed:    4.0s remaining:    0.5s\n",
      "[Parallel(n_jobs=-1)]: Done 125 out of 125 | elapsed:    4.3s finished\n",
      "[Parallel(n_jobs=-1)]: Using backend LokyBackend with 8 concurrent workers.\n"
     ]
    },
    {
     "name": "stdout",
     "output_type": "stream",
     "text": [
      "(1490, 4) (1490, 1)\n",
      "Finish tuning\n",
      "SVC(C=1.0, cache_size=200, class_weight=None, coef0=0.0,\n",
      "  decision_function_shape='ovr', degree=3, gamma=0.5, kernel='rbf',\n",
      "  max_iter=-1, probability=False, random_state=None, shrinking=True,\n",
      "  tol=0.001, verbose=False)\n",
      "Shape (373, 4)\n",
      "ACC 0.6621983914209115 0.642567448421795\n",
      "0.7395973154362416\n",
      "0.7511111111111111\n",
      "(1490, 2)\n",
      "Fitting 5 folds for each of 25 candidates, totalling 125 fits\n"
     ]
    },
    {
     "name": "stderr",
     "output_type": "stream",
     "text": [
      "[Parallel(n_jobs=-1)]: Done  52 tasks      | elapsed:    1.3s\n",
      "[Parallel(n_jobs=-1)]: Done 110 out of 125 | elapsed:    3.5s remaining:    0.4s\n",
      "[Parallel(n_jobs=-1)]: Done 125 out of 125 | elapsed:    3.8s finished\n"
     ]
    },
    {
     "name": "stdout",
     "output_type": "stream",
     "text": [
      "(1490, 2) (1490, 1)\n",
      "Finish tuning\n",
      "SVC(C=100.0, cache_size=200, class_weight=None, coef0=0.0,\n",
      "  decision_function_shape='ovr', degree=3, gamma=0.25, kernel='rbf',\n",
      "  max_iter=-1, probability=False, random_state=None, shrinking=True,\n",
      "  tol=0.001, verbose=False)\n",
      "Shape (373, 2)\n",
      "ACC 0.6112600536193029 0.5836272262387586\n",
      "0.738255033557047\n",
      "0.845\n",
      "(1490,)\n",
      "Fitting 5 folds for each of 25 candidates, totalling 125 fits\n"
     ]
    },
    {
     "name": "stderr",
     "output_type": "stream",
     "text": [
      "[Parallel(n_jobs=-1)]: Using backend LokyBackend with 8 concurrent workers.\n"
     ]
    },
    {
     "name": "stdout",
     "output_type": "stream",
     "text": [
      "error at: 0.845\n"
     ]
    }
   ],
   "source": [
    "# #Splitting\n",
    "X_train, X_test, y_train, y_test = train_test_split(X, y, test_size=0.2, random_state=92)\n",
    "#cv = ShuffleSplit(X_train.shape[0], test_size=0.2, random_state=42)\n",
    "\n",
    "# Define Classifier\n",
    "svr = svm.SVC(kernel='rbf')\n",
    "\n",
    "# Deffine tuning parameter\n",
    "# C_range = np.logspace(-2, 10, 13)\n",
    "# gamma_range = np.logspace(-9, 3, 13)\n",
    "\n",
    "C_range = np.logspace(-2, 2, 5)\n",
    "gamma_range = [1,0.5, 0.25,0.01,0.002]\n",
    "# gamma_range = [0.01,0.002,0.0006,0.0007]\n",
    "# gamma_range = [0.1,0.01,0.002,0.0005,0.0006,0.0007,]\n",
    "# C_range = [20, 30,50]\n",
    "# C_range=[1000,1500]\n",
    "# C_range = [1,2,4,6,8,10,12,15,16,20,30,40,100]\n",
    "# gamma_range = [0.01,0.015, 0.018, 0.002,0.003,0.0004, 0.0005,0.0006,0.0007]; # 0.0007=1/1428 1428 = no. of features\n",
    "# gamma_range = np.logspace(-2, 2, 5)\n",
    "param_grid = dict(gamma=gamma_range, C=C_range)\n",
    "#clf_Tune = GridSearchCV(estimator=svr, cv=1, param_grid=param_grid,n_jobs=-1)\n",
    "clf_Tune = GridSearchCV(estimator=svr, cv=5, param_grid=param_grid,n_jobs=-1, verbose=True)\n",
    "##  Define LeaveOneOutCrossValidation\n",
    "#loocv = LeaveOneOut()\n",
    "ACC_Th2=[]\n",
    "AUC_Th2=[]\n",
    "SV=[]\n",
    "Bins=[]\n",
    "for i in Th_2_Bins:\n",
    "    print (i)\n",
    "    try:\n",
    "        print (X_train[:,np.squeeze(np.asarray(np.where(clf.scores_>=i)))].shape)\n",
    "        \n",
    "        #Hyper parameter Tuning \n",
    "        clf_Tune.fit(X_train[:,np.squeeze(np.asarray(np.where(clf.scores_>=i)))],y_train)\n",
    "        print (X_train[:,np.squeeze(np.asarray(np.where(clf.scores_>=i)))].shape ,y_train.shape)\n",
    "        print ('Finish tuning')\n",
    "        print (clf_Tune.best_estimator_)\n",
    "\n",
    "        # use tuned parameter on to get model\n",
    "        y_p = clf_Tune.best_estimator_.predict(X_test[:,np.squeeze(np.asarray(np.where(clf.scores_>=i)))])\n",
    "\n",
    "        ACC_Th2_T=accuracy_score(y_test, y_p)\n",
    "        fpr, tpr, thresholds = metrics.roc_curve(y_test,y_p)\n",
    "        AUC_Th2_T=metrics.auc(fpr, tpr)\n",
    "        print ('Shape', X_test[:,np.squeeze(np.asarray(np.where(clf.scores_>=i)))].shape)\n",
    "        print ('ACC',ACC_Th2_T,AUC_Th2_T)\n",
    "        SVe=float(len(clf_Tune.best_estimator_.support_vectors_))/X_train[:,np.squeeze(np.asarray(np.where(clf.scores_>=i)))].shape[0]\n",
    "        print (SVe)\n",
    "        SV.append(SVe)\n",
    "#         print 'Report',classification_report(y_test, y_p)\n",
    "        ACC_Th2.append(ACC_Th2_T)\n",
    "        AUC_Th2.append(AUC_Th2_T)\n",
    "        Bins.append(i)\n",
    "    except:\n",
    "        print ('error at:',i)\n",
    "    # false_positive_rate, true_positive_rate, thresholds = roc_curve(y_test, y_p)\n",
    "    # roc_auc_T = auc(false_positive_rate, true_positive_rate)\n",
    "    # print 'AUC',roc_auc_T\n",
    "    # AUC_Th2.append(roc_auc_T)"
   ]
  },
  {
   "cell_type": "code",
   "execution_count": 32,
   "metadata": {},
   "outputs": [],
   "source": [
    "# accuracy_score(y_test, y_p)\n",
    "# MulticlassAuc(y_test,y_p)"
   ]
  },
  {
   "cell_type": "code",
   "execution_count": 33,
   "metadata": {},
   "outputs": [],
   "source": [
    "        \n",
    "#         ACC_Th2_T=accuracy_score(y_test, y_p)\n",
    "#         AUC_Th2_T=MulticlassAuc(y_test,y_p)\n",
    "#         print 'Shape', X_test[:,np.squeeze(np.asarray(np.where(clf.scores_>=i)))].shape\n",
    "#         print 'ACC',ACC_Th2_T,AUC_Th2_T\n",
    "#         ACC_Th2.append(ACC_Th2_T)\n",
    "#         AUC_Th2.append(AUC_Th2_T)\n",
    "#         Bins.append(i)\n",
    "#     except:\n",
    "#         print 'error at:',i\n",
    "#     # false_positive_rate, true_positive_rate, thresholds = roc_curve(y_test, y_p)\n",
    "#     # roc_auc_T = auc(false_positive_rate, true_positive_rate)\n",
    "#     # print 'AUC',roc_auc_T\n",
    "#     # AUC_Th2.append(roc_auc_T)"
   ]
  },
  {
   "cell_type": "code",
   "execution_count": 34,
   "metadata": {},
   "outputs": [
    {
     "data": {
      "text/plain": [
       "[0.8445040214477212,\n",
       " 0.9115281501340483,\n",
       " 0.900804289544236,\n",
       " 0.9088471849865952,\n",
       " 0.8659517426273459,\n",
       " 0.8445040214477212,\n",
       " 0.6863270777479893,\n",
       " 0.6621983914209115,\n",
       " 0.6112600536193029]"
      ]
     },
     "execution_count": 34,
     "metadata": {},
     "output_type": "execute_result"
    }
   ],
   "source": [
    "ACC_Th2 "
   ]
  },
  {
   "cell_type": "code",
   "execution_count": 35,
   "metadata": {},
   "outputs": [
    {
     "data": {
      "image/png": "[encoded data removed]",
      "text/plain": [
       "<Figure size 432x288 with 3 Axes>"
      ]
     },
     "metadata": {
      "needs_background": "light"
     },
     "output_type": "display_data"
    }
   ],
   "source": [
    "from matplotlib.ticker import FormatStrFormatter\n",
    "Th_2_Bins=np.asarray(Bins)\n",
    "data=clf.scores_\n",
    "fig, ax = plt.subplots()\n",
    "fig.subplots_adjust(right=0.75)\n",
    "#counts, bins, patches = ax.hist(data,10 ,edgecolor='gray')\n",
    "counts, bins, patches = ax.hist(data,9,facecolor=\"None\",edgecolor='blue', lw=1)\n",
    "# Set the ticks to be at the edges of the bins.\n",
    "ax.set_xticks(bins)\n",
    "# Set the xaxis's tick labels to be formatted with 1 decimal place...\n",
    "ax.xaxis.set_major_formatter(FormatStrFormatter('%0.1f'))\n",
    "\n",
    "\n",
    "bin_centers = 0.5 * np.diff(bins) + bins[:-1]\n",
    "\n",
    "#show % value\n",
    "for count, x in zip(counts, bin_centers):\n",
    "    # Label the raw counts\n",
    "    ax.annotate(int(count), xy=(x, 0), xycoords=('data', 'axes fraction'),\n",
    "        xytext=(0, -18), textcoords='offset points', va='top', ha='center')\n",
    "\n",
    "    # Label the percentages\n",
    "    percent = '%0.0f%%' % (100 * float(count) / counts.sum())\n",
    "    ax.annotate(percent, xy=(x, 0), xycoords=('data', 'axes fraction'),\n",
    "        xytext=(0, -32), textcoords='offset points', va='top', ha='center')\n",
    "    \n",
    "    # Give ourselves some more room at the bottom of the plot\n",
    "\n",
    "ax2 = ax.twinx()\n",
    "ax2.plot(Th_2_Bins,AUC_Th2, color='red',ls='dashed' )#,THbin,CCC_Per)\n",
    "ax2.set_frame_on(False)\n",
    "ax2.set_ylabel('AUC', color='red')\n",
    "ax2.patch.set_visible(False)\n",
    "for i,j in zip(Th_2_Bins,AUC_Th2):\n",
    "    #ax2.annotate((\"%.2f\" % j),xy=(i+0.04,j-0.01), color ='red') ##############################\n",
    "    ax2.annotate((\"%.2f\" % j),xy=(i,j-0.01), color ='red') ##############################\n",
    "    ax2.plot(i,j, marker='o', markersize=7, color=\"red\")\n",
    "\n",
    "\n",
    "    \n",
    "ax3 = ax.twinx()\n",
    "ax3.plot(Th_2_Bins,ACC_Th2, color='black')#,THbin,CCC_Per)\n",
    "ax3.set_frame_on(False)\n",
    "ax3.set_ylabel('Accuracy', color='black')\n",
    "\n",
    "\n",
    "\n",
    "\n",
    "\n",
    "\n",
    "for i,j in zip(Th_2_Bins,ACC_Th2):\n",
    "     #ax3.annotate((\"%0.2f\" % j),xy=(i-0.05,j), color='black')\n",
    "    #ax3.annotate((\"%0.2f\" % j),xy=(i-0.1,j), color='black')##################################\n",
    "    ax3.annotate((\"%0.2f\" % j),xy=(i,j+0.01), color='black')##################################\n",
    "    ax3.plot(i,j, marker='*', markersize=10, color=\"black\")\n",
    "    #ax3.annotate((\"%0.2f,%0.2f\" % (i,j)),xy=(i-0.05,j), color='green')\n",
    "    #ax3.annotate((\"%0.3f\" %j),xy=(i,j), color='green')\n",
    "\n",
    "\n",
    "    \n",
    "    \n",
    "    \n",
    "    \n",
    "# Move the last y-axis spine over to the right by 20% of the width of the axes\n",
    "ax3.spines['right'].set_position(('axes', 1.15))\n",
    "ax3.spines['right'].set_visible(True)\n",
    "\n",
    "# To make the border of the right-most axis visible, we need to turn the frame\n",
    "# on. This hides the other plots, however, so we need to turn its fill off.\n",
    "ax3.set_frame_on(True)\n",
    "ax3.patch.set_visible(False)\n",
    "\n",
    "\n",
    "#ax.plot(bins,np.linspace(0,1,11))\n",
    "plt.subplots_adjust(bottom=0.15)\n",
    "plt.grid(False,which='both')\n",
    "ax.set_ylabel('Frequency')\n",
    "ax.yaxis.label.set_color('Blue')\n",
    "plt.title(\"Clear\")\n",
    "plt.tight_layout()\n",
    "# #Save the image\n",
    "\n",
    "filename='Corr_StabilitySelection_TH2'\n",
    "save_format='png'\n",
    "#print filename+'.'+save_format\n",
    "#pp='home/ralfahad/Pictures'\n",
    "#plt.savefig(filename+'.'+save_format,dpi=100)\n",
    "# plt.savefig(filename+'.'+save_format,dpi=300, bbox_inches='tight')\n",
    "plt.show()\n",
    "\n"
   ]
  },
  {
   "cell_type": "code",
   "execution_count": 36,
   "metadata": {},
   "outputs": [
    {
     "name": "stdout",
     "output_type": "stream",
     "text": [
      "0.00\n",
      "0.09\n",
      "0.19\n",
      "0.28\n",
      "0.38\n",
      "0.47\n",
      "0.56\n",
      "0.66\n",
      "0.75\n"
     ]
    },
    {
     "data": {
      "text/html": [
       "<div>\n",
       "<style scoped>\n",
       "    .dataframe tbody tr th:only-of-type {\n",
       "        vertical-align: middle;\n",
       "    }\n",
       "\n",
       "    .dataframe tbody tr th {\n",
       "        vertical-align: top;\n",
       "    }\n",
       "\n",
       "    .dataframe thead th {\n",
       "        text-align: right;\n",
       "    }\n",
       "</style>\n",
       "<table border=\"1\" class=\"dataframe\">\n",
       "  <thead>\n",
       "    <tr style=\"text-align: right;\">\n",
       "      <th></th>\n",
       "      <th>Threshold</th>\n",
       "      <th>ACC</th>\n",
       "      <th>AUC</th>\n",
       "      <th>NoEle</th>\n",
       "    </tr>\n",
       "  </thead>\n",
       "  <tbody>\n",
       "    <tr>\n",
       "      <th>0</th>\n",
       "      <td>0.00</td>\n",
       "      <td>0.84</td>\n",
       "      <td>0.82</td>\n",
       "      <td>1428</td>\n",
       "    </tr>\n",
       "    <tr>\n",
       "      <th>1</th>\n",
       "      <td>0.09</td>\n",
       "      <td>0.91</td>\n",
       "      <td>0.91</td>\n",
       "      <td>283</td>\n",
       "    </tr>\n",
       "    <tr>\n",
       "      <th>2</th>\n",
       "      <td>0.19</td>\n",
       "      <td>0.90</td>\n",
       "      <td>0.90</td>\n",
       "      <td>187</td>\n",
       "    </tr>\n",
       "    <tr>\n",
       "      <th>3</th>\n",
       "      <td>0.28</td>\n",
       "      <td>0.91</td>\n",
       "      <td>0.90</td>\n",
       "      <td>128</td>\n",
       "    </tr>\n",
       "    <tr>\n",
       "      <th>4</th>\n",
       "      <td>0.38</td>\n",
       "      <td>0.87</td>\n",
       "      <td>0.85</td>\n",
       "      <td>69</td>\n",
       "    </tr>\n",
       "    <tr>\n",
       "      <th>5</th>\n",
       "      <td>0.47</td>\n",
       "      <td>0.84</td>\n",
       "      <td>0.84</td>\n",
       "      <td>27</td>\n",
       "    </tr>\n",
       "    <tr>\n",
       "      <th>6</th>\n",
       "      <td>0.56</td>\n",
       "      <td>0.69</td>\n",
       "      <td>0.67</td>\n",
       "      <td>5</td>\n",
       "    </tr>\n",
       "    <tr>\n",
       "      <th>7</th>\n",
       "      <td>0.66</td>\n",
       "      <td>0.66</td>\n",
       "      <td>0.64</td>\n",
       "      <td>4</td>\n",
       "    </tr>\n",
       "    <tr>\n",
       "      <th>8</th>\n",
       "      <td>0.75</td>\n",
       "      <td>0.61</td>\n",
       "      <td>0.58</td>\n",
       "      <td>2</td>\n",
       "    </tr>\n",
       "  </tbody>\n",
       "</table>\n",
       "</div>"
      ],
      "text/plain": [
       "  Threshold   ACC   AUC  NoEle\n",
       "0      0.00  0.84  0.82   1428\n",
       "1      0.09  0.91  0.91    283\n",
       "2      0.19  0.90  0.90    187\n",
       "3      0.28  0.91  0.90    128\n",
       "4      0.38  0.87  0.85     69\n",
       "5      0.47  0.84  0.84     27\n",
       "6      0.56  0.69  0.67      5\n",
       "7      0.66  0.66  0.64      4\n",
       "8      0.75  0.61  0.58      2"
      ]
     },
     "execution_count": 36,
     "metadata": {},
     "output_type": "execute_result"
    }
   ],
   "source": [
    "# for i,j in zip(Th_2_Bins,AUC_Th2):\n",
    "#     print i,j\n",
    "All_ACC=[]\n",
    "All_AUC=[]\n",
    "ALL_Bins=[]\n",
    "All_SV=[]\n",
    "NumberofElement=[]\n",
    "for i,j,k,l in zip(Th_2_Bins,ACC_Th2,AUC_Th2, SV):\n",
    "    Th2Index=np.squeeze(np.asarray(np.where(clf.scores_>=i)))\n",
    "#     print (\"{0:.2f}\".format(i)),(\"{0:.2f}\".format(j)),(\"{0:.2f}\".format(k)),len(Th2Index),(\"{0:.2f}\".format(l))\n",
    "#     NumberofElement.append(len(Th2Index))\n",
    "    print (\"{0:.2f}\".format(i)),(\"{0:.2f}\".format(j)),(\"{0:.2f}\".format(k)),len(Th2Index)\n",
    "    NumberofElement.append(len(Th2Index))\n",
    "    ALL_Bins.append(\"{0:.2f}\".format(i))\n",
    "    All_ACC.append(\"{0:.2f}\".format(j))\n",
    "    All_AUC.append(\"{0:.2f}\".format(k))\n",
    "    All_SV.append(\"{0:.2f}\".format(l))\n",
    "\n",
    "# Selected_Feature_Result=pd.concat([pd.DataFrame(ALL_Bins),pd.DataFrame(All_ACC),\n",
    "#            pd.DataFrame(All_AUC),pd.DataFrame(NumberofElement),pd.DataFrame(All_SV)],axis=1)\n",
    "# Selected_Feature_Result.columns=['Threshold','ACC','AUC','NoEle','SV']\n",
    "Selected_Feature_Result=pd.concat([pd.DataFrame(ALL_Bins),pd.DataFrame(All_ACC),\n",
    "           pd.DataFrame(All_AUC),pd.DataFrame(NumberofElement)],axis=1)\n",
    "Selected_Feature_Result.columns=['Threshold','ACC','AUC','NoEle']\n",
    "Selected_Feature_Result"
   ]
  },
  {
   "cell_type": "code",
   "execution_count": 37,
   "metadata": {},
   "outputs": [
    {
     "data": {
      "text/plain": [
       "0.37555555555555553"
      ]
     },
     "execution_count": 37,
     "metadata": {},
     "output_type": "execute_result"
    }
   ],
   "source": [
    "Th_2_Bins[4]"
   ]
  },
  {
   "cell_type": "code",
   "execution_count": 38,
   "metadata": {},
   "outputs": [
    {
     "data": {
      "text/plain": [
       "array([  14,   58,   62,  112,  117,  126,  184,  201,  217,  220,  229,\n",
       "        238,  262,  269,  272,  286,  321,  337,  338,  345,  361,  370,\n",
       "        379,  389,  405,  438,  447,  462,  472,  476,  491,  499,  526,\n",
       "        659,  689,  740,  744,  752,  762,  801,  808,  820,  843,  859,\n",
       "        887,  904,  938,  939,  956, 1006, 1092, 1127, 1136, 1156, 1157,\n",
       "       1161, 1170, 1171, 1177, 1195, 1228, 1229, 1231, 1238, 1273, 1274,\n",
       "       1356, 1404, 1422], dtype=int64)"
      ]
     },
     "execution_count": 38,
     "metadata": {},
     "output_type": "execute_result"
    }
   ],
   "source": [
    "# Need to chage gamma range . It is selecting too many features\n",
    "# Let 0.34 is our best Thr. TO get the index numer with this thr\n",
    "fealoc=np.squeeze(np.asarray(np.where(clf.scores_>=Th_2_Bins[4])))\n",
    "fealoc\n",
    "# len(fealoc)\n",
    "# Do you get it? yes > How about number of support of the model?"
   ]
  },
  {
   "cell_type": "code",
   "execution_count": 39,
   "metadata": {},
   "outputs": [
    {
     "data": {
      "text/plain": [
       "(array([ 0,  1,  3,  4,  5,  7,  9, 13, 14, 15, 16, 20, 21, 23, 25, 27, 30,\n",
       "        34, 39, 43, 44, 47, 48, 49, 50, 53, 54, 55, 58, 60, 62, 64, 65, 66],\n",
       "       dtype=int64),\n",
       " array([3, 1, 1, 5, 3, 1, 1, 1, 5, 2, 1, 1, 2, 1, 1, 1, 2, 1, 4, 1, 2, 1,\n",
       "        2, 4, 2, 1, 3, 1, 3, 2, 2, 3, 4, 1], dtype=int64))"
      ]
     },
     "execution_count": 39,
     "metadata": {},
     "output_type": "execute_result"
    }
   ],
   "source": [
    "ROI=fealoc%68\n",
    "ROI\n",
    "np.unique(ROI,return_counts=True)"
   ]
  },
  {
   "cell_type": "code",
   "execution_count": 40,
   "metadata": {},
   "outputs": [
    {
     "data": {
      "text/plain": [
       "34"
      ]
     },
     "execution_count": 40,
     "metadata": {},
     "output_type": "execute_result"
    }
   ],
   "source": [
    "len(np.unique(ROI))\n",
    "# np.unique(ROI,return_counts=True)"
   ]
  },
  {
   "cell_type": "code",
   "execution_count": 41,
   "metadata": {},
   "outputs": [
    {
     "name": "stdout",
     "output_type": "stream",
     "text": [
      "Fitting 5 folds for each of 25 candidates, totalling 125 fits\n"
     ]
    },
    {
     "name": "stderr",
     "output_type": "stream",
     "text": [
      "[Parallel(n_jobs=-1)]: Using backend LokyBackend with 8 concurrent workers.\n",
      "[Parallel(n_jobs=-1)]: Done  34 tasks      | elapsed:  2.2min\n",
      "[Parallel(n_jobs=-1)]: Done 125 out of 125 | elapsed:  6.6min finished\n"
     ]
    },
    {
     "name": "stdout",
     "output_type": "stream",
     "text": [
      "(1490, 1428) (1490, 1)\n",
      "Finish tuning\n",
      "88.9261744966443\n",
      "Fitting 5 folds for each of 25 candidates, totalling 125 fits\n"
     ]
    },
    {
     "name": "stderr",
     "output_type": "stream",
     "text": [
      "[Parallel(n_jobs=-1)]: Using backend LokyBackend with 8 concurrent workers.\n",
      "[Parallel(n_jobs=-1)]: Done  34 tasks      | elapsed:   20.2s\n",
      "[Parallel(n_jobs=-1)]: Done 125 out of 125 | elapsed:   58.7s finished\n"
     ]
    },
    {
     "name": "stdout",
     "output_type": "stream",
     "text": [
      "(1490, 283) (1490, 1)\n",
      "Finish tuning\n",
      "44.966442953020135\n",
      "Fitting 5 folds for each of 25 candidates, totalling 125 fits\n"
     ]
    },
    {
     "name": "stderr",
     "output_type": "stream",
     "text": [
      "[Parallel(n_jobs=-1)]: Using backend LokyBackend with 8 concurrent workers.\n",
      "[Parallel(n_jobs=-1)]: Done  34 tasks      | elapsed:    8.0s\n",
      "[Parallel(n_jobs=-1)]: Done 125 out of 125 | elapsed:   24.1s finished\n"
     ]
    },
    {
     "name": "stdout",
     "output_type": "stream",
     "text": [
      "(1490, 187) (1490, 1)\n",
      "Finish tuning\n",
      "39.12751677852349\n",
      "Fitting 5 folds for each of 25 candidates, totalling 125 fits\n"
     ]
    },
    {
     "name": "stderr",
     "output_type": "stream",
     "text": [
      "[Parallel(n_jobs=-1)]: Using backend LokyBackend with 8 concurrent workers.\n",
      "[Parallel(n_jobs=-1)]: Done  34 tasks      | elapsed:    5.1s\n",
      "[Parallel(n_jobs=-1)]: Done 125 out of 125 | elapsed:   16.3s finished\n"
     ]
    },
    {
     "name": "stdout",
     "output_type": "stream",
     "text": [
      "(1490, 128) (1490, 1)\n",
      "Finish tuning\n",
      "59.73154362416108\n",
      "Fitting 5 folds for each of 25 candidates, totalling 125 fits\n"
     ]
    },
    {
     "name": "stderr",
     "output_type": "stream",
     "text": [
      "[Parallel(n_jobs=-1)]: Using backend LokyBackend with 8 concurrent workers.\n",
      "[Parallel(n_jobs=-1)]: Done  34 tasks      | elapsed:    3.6s\n",
      "[Parallel(n_jobs=-1)]: Done 125 out of 125 | elapsed:   10.3s finished\n",
      "[Parallel(n_jobs=-1)]: Using backend LokyBackend with 8 concurrent workers.\n"
     ]
    },
    {
     "name": "stdout",
     "output_type": "stream",
     "text": [
      "(1490, 69) (1490, 1)\n",
      "Finish tuning\n",
      "46.71140939597315\n",
      "Fitting 5 folds for each of 25 candidates, totalling 125 fits\n"
     ]
    },
    {
     "name": "stderr",
     "output_type": "stream",
     "text": [
      "[Parallel(n_jobs=-1)]: Done  34 tasks      | elapsed:    1.9s\n",
      "[Parallel(n_jobs=-1)]: Done 125 out of 125 | elapsed:    6.1s finished\n"
     ]
    },
    {
     "name": "stdout",
     "output_type": "stream",
     "text": [
      "(1490, 27) (1490, 1)\n",
      "Finish tuning\n",
      "32.75167785234899\n",
      "Fitting 5 folds for each of 25 candidates, totalling 125 fits\n"
     ]
    },
    {
     "name": "stderr",
     "output_type": "stream",
     "text": [
      "[Parallel(n_jobs=-1)]: Using backend LokyBackend with 8 concurrent workers.\n",
      "[Parallel(n_jobs=-1)]: Done  34 tasks      | elapsed:    1.0s\n",
      "[Parallel(n_jobs=-1)]: Done 125 out of 125 | elapsed:    4.6s finished\n",
      "[Parallel(n_jobs=-1)]: Using backend LokyBackend with 8 concurrent workers.\n"
     ]
    },
    {
     "name": "stdout",
     "output_type": "stream",
     "text": [
      "(1490, 5) (1490, 1)\n",
      "Finish tuning\n",
      "72.21476510067114\n",
      "Fitting 5 folds for each of 25 candidates, totalling 125 fits\n"
     ]
    },
    {
     "name": "stderr",
     "output_type": "stream",
     "text": [
      "[Parallel(n_jobs=-1)]: Done  34 tasks      | elapsed:    0.8s\n",
      "[Parallel(n_jobs=-1)]: Done 125 out of 125 | elapsed:    4.1s finished\n",
      "[Parallel(n_jobs=-1)]: Using backend LokyBackend with 8 concurrent workers.\n"
     ]
    },
    {
     "name": "stdout",
     "output_type": "stream",
     "text": [
      "(1490, 4) (1490, 1)\n",
      "Finish tuning\n",
      "73.95973154362416\n",
      "Fitting 5 folds for each of 25 candidates, totalling 125 fits\n"
     ]
    },
    {
     "name": "stderr",
     "output_type": "stream",
     "text": [
      "[Parallel(n_jobs=-1)]: Done  52 tasks      | elapsed:    1.3s\n",
      "[Parallel(n_jobs=-1)]: Done 110 out of 125 | elapsed:    3.4s remaining:    0.4s\n",
      "[Parallel(n_jobs=-1)]: Done 125 out of 125 | elapsed:    3.7s finished\n"
     ]
    },
    {
     "name": "stdout",
     "output_type": "stream",
     "text": [
      "(1490, 2) (1490, 1)\n",
      "Finish tuning\n",
      "73.8255033557047\n"
     ]
    }
   ],
   "source": [
    "for th in Th_2_Bins:\n",
    "    clf_Tune.fit(X_train[:,np.squeeze(np.asarray(np.where(clf.scores_>=th)))],y_train)\n",
    "    print (X_train[:,np.squeeze(np.asarray(np.where(clf.scores_>=th)))].shape ,y_train.shape)\n",
    "    print ('Finish tuning')\n",
    "    print (float(len(clf_Tune.best_estimator_.support_vectors_))/X_train[:,np.squeeze(np.asarray(np.where(clf.scores_>=th)))].shape[0]*100)\n",
    "# use tuned parameter on to get model\n",
    "#y_p = clf_Tune.best_estimator_.predict(X_test[:,np.squeeze(np.asarray(np.where(clf.scores_>=i)))])"
   ]
  },
  {
   "cell_type": "code",
   "execution_count": 42,
   "metadata": {},
   "outputs": [],
   "source": [
    "# float(len(clf_Tune.best_estimator_.support_vectors_))/X_train[:,np.squeeze(np.asarray(np.where(clf.scores_>=0.25)))].shape[0]*100"
   ]
  },
  {
   "cell_type": "code",
   "execution_count": 43,
   "metadata": {},
   "outputs": [],
   "source": [
    "# result it overfitting need to be less or equal to 40%"
   ]
  },
  {
   "cell_type": "markdown",
   "metadata": {},
   "source": [
    "# Rank the Feature Vectors as their importance"
   ]
  },
  {
   "cell_type": "code",
   "execution_count": 44,
   "metadata": {},
   "outputs": [
    {
     "name": "stdout",
     "output_type": "stream",
     "text": [
      "[65. 13. 49. 48. 58.  5. 64. 21. 47.  4. 65.  0. 62.  0. 15. 50. 27.  4.\n",
      "  4. 53. 21.  0. 34. 58. 60. 23. 30.  5. 49. 14. 39. 64. 48.  1. 25. 14.\n",
      "  3. 54. 39. 16. 43. 39. 20.  9.  4. 65. 49. 44. 14. 30. 62.  4. 64. 44.\n",
      " 50.  7. 39. 58. 60. 14. 66. 65. 14. 54.  5. 55. 54. 15. 49.]\n",
      "69\n"
     ]
    }
   ],
   "source": [
    "# Rank the Features according to the importance\n",
    "names=range(0,1428) # Feature names used as 1-1428 features\n",
    "cn=np.asarray(names) # converted as numpy.ndarray\n",
    "# print \"Features sorted by their score:\"\n",
    "b= sorted(zip(map(lambda x: round(x, 4), clf.scores_), cn), reverse=True)\n",
    "# print b\n",
    "bb=np.asarray(b)\n",
    "rakfe=bb[bb[:,0]>=Th_2_Bins[4]]\n",
    "# rakfe=bb[bb[:,0]>=.50]\n",
    "ROIs=rakfe[:,1]%68\n",
    "print (ROIs)\n",
    "print (len(ROIs))"
   ]
  },
  {
   "cell_type": "code",
   "execution_count": 45,
   "metadata": {
    "scrolled": false
   },
   "outputs": [],
   "source": [
    "# # b\n",
    "# ROIstime=np.floor(rakfe[:,1]/68)\n",
    "# timeloc=ROIstime*10\n",
    "# plt.hist(timeloc, bins=20)"
   ]
  },
  {
   "cell_type": "code",
   "execution_count": 46,
   "metadata": {},
   "outputs": [
    {
     "name": "stdout",
     "output_type": "stream",
     "text": [
      "(array([ 0,  1,  3,  4,  5,  7,  9, 13, 14, 15, 16, 20, 21, 23, 25, 27, 30,\n",
      "       34, 39, 43, 44, 47, 48, 49, 50, 53, 54, 55, 58, 60, 62, 64, 65, 66],\n",
      "      dtype=int64), array([3, 1, 1, 5, 3, 1, 1, 1, 5, 2, 1, 1, 2, 1, 1, 1, 2, 1, 4, 1, 2, 1,\n",
      "       2, 4, 2, 1, 3, 1, 3, 2, 2, 3, 4, 1], dtype=int64))\n",
      "34\n"
     ]
    }
   ],
   "source": [
    "ROI\n",
    "print (np.unique(ROI,return_counts=True))\n",
    "print (len(np.unique(ROIs)))"
   ]
  },
  {
   "cell_type": "code",
   "execution_count": 47,
   "metadata": {},
   "outputs": [
    {
     "data": {
      "text/plain": [
       "65.0"
      ]
     },
     "execution_count": 47,
     "metadata": {},
     "output_type": "execute_result"
    }
   ],
   "source": [
    "ROIs[0]"
   ]
  },
  {
   "cell_type": "code",
   "execution_count": 48,
   "metadata": {},
   "outputs": [],
   "source": [
    "# Roiname=pd.read_csv(\"/home/sultan/EEG/Source_Level_Analysis/DK_atlas_Visualize_index_v1.csv\")\n",
    "Roiname=pd.read_csv(\"C:/Users/sultan/OneDrive - The University of Memphis/RESEARCH2017S/0_Source_Level_Analysis_19/FINAL_DATA_FOR_GITHUB/Source_Level_Analysis/DK_atlas_Visualize_index_v1.csv\")"
   ]
  },
  {
   "cell_type": "code",
   "execution_count": 49,
   "metadata": {},
   "outputs": [],
   "source": [
    "nor=80\n",
    "shdkroi=Roiname['Desikan_Freesurfer_v5.1'] # \"Desikan_Freesurfer_v5.1\"  is the label of short name columns \n",
    "sdk=shdkroi[ROIs]# ROIs is the index of label\n",
    "# sdk.head(nor)"
   ]
  },
  {
   "cell_type": "code",
   "execution_count": 50,
   "metadata": {},
   "outputs": [
    {
     "name": "stdout",
     "output_type": "stream",
     "text": [
      "65.0                temporalpole R\n",
      "13.0                    fusiform R\n",
      "49.0                  precentral R\n",
      "48.0                  precentral L\n",
      "58.0            superiorparietal L\n",
      "5.0          caudalmiddlefrontal R\n",
      "64.0                temporalpole L\n",
      "21.0            isthmuscingulate R\n",
      "47.0          posteriorcingulate R\n",
      "4.0          caudalmiddlefrontal L\n",
      "65.0                temporalpole R\n",
      "0.0                     bankssts L\n",
      "62.0               supramarginal L\n",
      "0.0                     bankssts L\n",
      "15.0            inferiorparietal R\n",
      "50.0                   precuneus L\n",
      "27.0                     lingual R\n",
      "4.0          caudalmiddlefrontal L\n",
      "4.0          caudalmiddlefrontal L\n",
      "53.0    rostralanteriorcingulate R\n",
      "21.0            isthmuscingulate R\n",
      "0.0                     bankssts L\n",
      "34.0             parahippocampal L\n",
      "58.0            superiorparietal L\n",
      "60.0            superiortemporal L\n",
      "23.0            lateraloccipital R\n",
      "30.0              middletemporal L\n",
      "5.0          caudalmiddlefrontal R\n",
      "49.0                  precentral R\n",
      "14.0            inferiorparietal L\n",
      "                   ...            \n",
      "16.0            inferiortemporal L\n",
      "43.0               pericalcarine R\n",
      "39.0               parsorbitalis R\n",
      "20.0            isthmuscingulate L\n",
      "9.0                   entorhinal R\n",
      "4.0          caudalmiddlefrontal L\n",
      "65.0                temporalpole R\n",
      "49.0                  precentral R\n",
      "44.0                 postcentral L\n",
      "14.0            inferiorparietal L\n",
      "30.0              middletemporal L\n",
      "62.0               supramarginal L\n",
      "4.0          caudalmiddlefrontal L\n",
      "64.0                temporalpole L\n",
      "44.0                 postcentral L\n",
      "50.0                   precuneus L\n",
      "7.0                       cuneus R\n",
      "39.0               parsorbitalis R\n",
      "58.0            superiorparietal L\n",
      "60.0            superiortemporal L\n",
      "14.0            inferiorparietal L\n",
      "66.0          transversetemporal L\n",
      "65.0                temporalpole R\n",
      "14.0            inferiorparietal L\n",
      "54.0        rostralmiddlefrontal L\n",
      "5.0          caudalmiddlefrontal R\n",
      "55.0        rostralmiddlefrontal R\n",
      "54.0        rostralmiddlefrontal L\n",
      "15.0            inferiorparietal R\n",
      "49.0                  precentral R\n",
      "Name: BrainMesh_ICBM152.nv, Length: 69, dtype: object\n"
     ]
    },
    {
     "data": {
      "text/plain": [
       "69"
      ]
     },
     "execution_count": 50,
     "metadata": {},
     "output_type": "execute_result"
    }
   ],
   "source": [
    "dkfull=Roiname['BrainMesh_ICBM152.nv']\n",
    "dk=dkfull[ROIs]\n",
    "print (dk.head(nor))\n",
    "len(dk.head(nor))"
   ]
  },
  {
   "cell_type": "code",
   "execution_count": 51,
   "metadata": {},
   "outputs": [],
   "source": [
    "# aa=pd.DataFrame(dk.values[0:nor])\n",
    "# aa.columns=['ROIs']\n",
    "# ab=aa.drop_duplicates()\n",
    "# Toprois=pd.DataFrame(ab.values)\n",
    "# print Toprois"
   ]
  },
  {
   "cell_type": "code",
   "execution_count": 52,
   "metadata": {},
   "outputs": [],
   "source": [
    "# rois1=bb[0:16,1]%68\n",
    "# pd.DataFrame(bb[0:16,0],shdkroi[rois1])"
   ]
  },
  {
   "cell_type": "code",
   "execution_count": 53,
   "metadata": {},
   "outputs": [],
   "source": [
    "# saa=pd.DataFrame(sdk.values[0:nor])\n",
    "# saa.columns=['short ROIs']\n",
    "# sab=saa.drop_duplicates()\n",
    "# sToprois=pd.DataFrame(sab.values)\n",
    "# # print sToprois"
   ]
  },
  {
   "cell_type": "code",
   "execution_count": 54,
   "metadata": {},
   "outputs": [],
   "source": [
    "# nor1=14\n",
    "# sc=pd.DataFrame(bb[0:nor1,0])\n",
    "# sn=pd.concat([Toprois,sToprois,sc],axis=1)\n",
    "# sn.columns=['Fullname','ROIs short name', 'Feature score'] # sn: score and roi\n",
    "# # ddd=pd.DataFrame(bb[0:16,0],sToprois)\n",
    "# sn"
   ]
  },
  {
   "cell_type": "code",
   "execution_count": 55,
   "metadata": {},
   "outputs": [],
   "source": [
    "# sn.to_csv('Top15fea.csv')\n",
    "# Th_2_Bins"
   ]
  },
  {
   "cell_type": "code",
   "execution_count": 56,
   "metadata": {},
   "outputs": [],
   "source": [
    "aa=pd.DataFrame(dk.values[0:nor])\n",
    "aa.columns=['ROIs']\n",
    "Toprois=pd.DataFrame(aa.values)\n",
    "# print Toprois"
   ]
  },
  {
   "cell_type": "code",
   "execution_count": 57,
   "metadata": {},
   "outputs": [],
   "source": [
    "saa=pd.DataFrame(sdk.values[0:nor])\n",
    "saa.columns=['short ROIs']\n",
    "sToprois=pd.DataFrame(saa.values)\n",
    "# print sToprois"
   ]
  },
  {
   "cell_type": "code",
   "execution_count": 58,
   "metadata": {},
   "outputs": [
    {
     "data": {
      "text/html": [
       "<div>\n",
       "<style scoped>\n",
       "    .dataframe tbody tr th:only-of-type {\n",
       "        vertical-align: middle;\n",
       "    }\n",
       "\n",
       "    .dataframe tbody tr th {\n",
       "        vertical-align: top;\n",
       "    }\n",
       "\n",
       "    .dataframe thead th {\n",
       "        text-align: right;\n",
       "    }\n",
       "</style>\n",
       "<table border=\"1\" class=\"dataframe\">\n",
       "  <thead>\n",
       "    <tr style=\"text-align: right;\">\n",
       "      <th></th>\n",
       "      <th>Fullname</th>\n",
       "      <th>ROIs short name</th>\n",
       "      <th>Feature score</th>\n",
       "    </tr>\n",
       "  </thead>\n",
       "  <tbody>\n",
       "    <tr>\n",
       "      <th>0</th>\n",
       "      <td>temporalpole R</td>\n",
       "      <td>rTP</td>\n",
       "      <td>0.845</td>\n",
       "    </tr>\n",
       "    <tr>\n",
       "      <th>1</th>\n",
       "      <td>fusiform R</td>\n",
       "      <td>rFUS</td>\n",
       "      <td>0.810</td>\n",
       "    </tr>\n",
       "    <tr>\n",
       "      <th>2</th>\n",
       "      <td>precentral R</td>\n",
       "      <td>rPRC</td>\n",
       "      <td>0.680</td>\n",
       "    </tr>\n",
       "    <tr>\n",
       "      <th>3</th>\n",
       "      <td>precentral L</td>\n",
       "      <td>lPRC</td>\n",
       "      <td>0.665</td>\n",
       "    </tr>\n",
       "    <tr>\n",
       "      <th>4</th>\n",
       "      <td>superiorparietal L</td>\n",
       "      <td>lSP</td>\n",
       "      <td>0.625</td>\n",
       "    </tr>\n",
       "    <tr>\n",
       "      <th>5</th>\n",
       "      <td>caudalmiddlefrontal R</td>\n",
       "      <td>rCMF</td>\n",
       "      <td>0.560</td>\n",
       "    </tr>\n",
       "    <tr>\n",
       "      <th>6</th>\n",
       "      <td>temporalpole L</td>\n",
       "      <td>lTP</td>\n",
       "      <td>0.550</td>\n",
       "    </tr>\n",
       "    <tr>\n",
       "      <th>7</th>\n",
       "      <td>isthmuscingulate R</td>\n",
       "      <td>rIST</td>\n",
       "      <td>0.535</td>\n",
       "    </tr>\n",
       "    <tr>\n",
       "      <th>8</th>\n",
       "      <td>posteriorcingulate R</td>\n",
       "      <td>rPCG</td>\n",
       "      <td>0.535</td>\n",
       "    </tr>\n",
       "    <tr>\n",
       "      <th>9</th>\n",
       "      <td>caudalmiddlefrontal L</td>\n",
       "      <td>ICMF</td>\n",
       "      <td>0.520</td>\n",
       "    </tr>\n",
       "    <tr>\n",
       "      <th>10</th>\n",
       "      <td>temporalpole R</td>\n",
       "      <td>rTP</td>\n",
       "      <td>0.520</td>\n",
       "    </tr>\n",
       "    <tr>\n",
       "      <th>11</th>\n",
       "      <td>bankssts L</td>\n",
       "      <td>lBKS</td>\n",
       "      <td>0.515</td>\n",
       "    </tr>\n",
       "    <tr>\n",
       "      <th>12</th>\n",
       "      <td>supramarginal L</td>\n",
       "      <td>lSUPRA</td>\n",
       "      <td>0.515</td>\n",
       "    </tr>\n",
       "    <tr>\n",
       "      <th>13</th>\n",
       "      <td>bankssts L</td>\n",
       "      <td>lBKS</td>\n",
       "      <td>0.505</td>\n",
       "    </tr>\n",
       "    <tr>\n",
       "      <th>14</th>\n",
       "      <td>inferiorparietal R</td>\n",
       "      <td>rIP</td>\n",
       "      <td>0.500</td>\n",
       "    </tr>\n",
       "    <tr>\n",
       "      <th>15</th>\n",
       "      <td>precuneus L</td>\n",
       "      <td>lPREC</td>\n",
       "      <td>0.500</td>\n",
       "    </tr>\n",
       "    <tr>\n",
       "      <th>16</th>\n",
       "      <td>lingual R</td>\n",
       "      <td>rLIN</td>\n",
       "      <td>0.495</td>\n",
       "    </tr>\n",
       "    <tr>\n",
       "      <th>17</th>\n",
       "      <td>caudalmiddlefrontal L</td>\n",
       "      <td>ICMF</td>\n",
       "      <td>0.485</td>\n",
       "    </tr>\n",
       "    <tr>\n",
       "      <th>18</th>\n",
       "      <td>caudalmiddlefrontal L</td>\n",
       "      <td>ICMF</td>\n",
       "      <td>0.485</td>\n",
       "    </tr>\n",
       "    <tr>\n",
       "      <th>19</th>\n",
       "      <td>rostralanteriorcingulate R</td>\n",
       "      <td>rRAC</td>\n",
       "      <td>0.480</td>\n",
       "    </tr>\n",
       "    <tr>\n",
       "      <th>20</th>\n",
       "      <td>isthmuscingulate R</td>\n",
       "      <td>rIST</td>\n",
       "      <td>0.480</td>\n",
       "    </tr>\n",
       "    <tr>\n",
       "      <th>21</th>\n",
       "      <td>bankssts L</td>\n",
       "      <td>lBKS</td>\n",
       "      <td>0.480</td>\n",
       "    </tr>\n",
       "    <tr>\n",
       "      <th>22</th>\n",
       "      <td>parahippocampal L</td>\n",
       "      <td>lPHIP</td>\n",
       "      <td>0.480</td>\n",
       "    </tr>\n",
       "    <tr>\n",
       "      <th>23</th>\n",
       "      <td>superiorparietal L</td>\n",
       "      <td>lSP</td>\n",
       "      <td>0.480</td>\n",
       "    </tr>\n",
       "    <tr>\n",
       "      <th>24</th>\n",
       "      <td>superiortemporal L</td>\n",
       "      <td>lST</td>\n",
       "      <td>0.470</td>\n",
       "    </tr>\n",
       "    <tr>\n",
       "      <th>25</th>\n",
       "      <td>lateraloccipital R</td>\n",
       "      <td>rLO</td>\n",
       "      <td>0.470</td>\n",
       "    </tr>\n",
       "    <tr>\n",
       "      <th>26</th>\n",
       "      <td>middletemporal L</td>\n",
       "      <td>lMT</td>\n",
       "      <td>0.470</td>\n",
       "    </tr>\n",
       "    <tr>\n",
       "      <th>27</th>\n",
       "      <td>caudalmiddlefrontal R</td>\n",
       "      <td>rCMF</td>\n",
       "      <td>0.465</td>\n",
       "    </tr>\n",
       "    <tr>\n",
       "      <th>28</th>\n",
       "      <td>precentral R</td>\n",
       "      <td>rPRC</td>\n",
       "      <td>0.465</td>\n",
       "    </tr>\n",
       "    <tr>\n",
       "      <th>29</th>\n",
       "      <td>inferiorparietal L</td>\n",
       "      <td>lIP</td>\n",
       "      <td>0.460</td>\n",
       "    </tr>\n",
       "    <tr>\n",
       "      <th>...</th>\n",
       "      <td>...</td>\n",
       "      <td>...</td>\n",
       "      <td>...</td>\n",
       "    </tr>\n",
       "    <tr>\n",
       "      <th>45</th>\n",
       "      <td>temporalpole R</td>\n",
       "      <td>rTP</td>\n",
       "      <td>0.420</td>\n",
       "    </tr>\n",
       "    <tr>\n",
       "      <th>46</th>\n",
       "      <td>precentral R</td>\n",
       "      <td>rPRC</td>\n",
       "      <td>0.415</td>\n",
       "    </tr>\n",
       "    <tr>\n",
       "      <th>47</th>\n",
       "      <td>postcentral L</td>\n",
       "      <td>lPOC</td>\n",
       "      <td>0.415</td>\n",
       "    </tr>\n",
       "    <tr>\n",
       "      <th>48</th>\n",
       "      <td>inferiorparietal L</td>\n",
       "      <td>lIP</td>\n",
       "      <td>0.415</td>\n",
       "    </tr>\n",
       "    <tr>\n",
       "      <th>49</th>\n",
       "      <td>middletemporal L</td>\n",
       "      <td>lMT</td>\n",
       "      <td>0.410</td>\n",
       "    </tr>\n",
       "    <tr>\n",
       "      <th>50</th>\n",
       "      <td>supramarginal L</td>\n",
       "      <td>lSUPRA</td>\n",
       "      <td>0.405</td>\n",
       "    </tr>\n",
       "    <tr>\n",
       "      <th>51</th>\n",
       "      <td>caudalmiddlefrontal L</td>\n",
       "      <td>ICMF</td>\n",
       "      <td>0.405</td>\n",
       "    </tr>\n",
       "    <tr>\n",
       "      <th>52</th>\n",
       "      <td>temporalpole L</td>\n",
       "      <td>lTP</td>\n",
       "      <td>0.405</td>\n",
       "    </tr>\n",
       "    <tr>\n",
       "      <th>53</th>\n",
       "      <td>postcentral L</td>\n",
       "      <td>lPOC</td>\n",
       "      <td>0.400</td>\n",
       "    </tr>\n",
       "    <tr>\n",
       "      <th>54</th>\n",
       "      <td>precuneus L</td>\n",
       "      <td>lPREC</td>\n",
       "      <td>0.400</td>\n",
       "    </tr>\n",
       "    <tr>\n",
       "      <th>55</th>\n",
       "      <td>cuneus R</td>\n",
       "      <td>rCUN</td>\n",
       "      <td>0.400</td>\n",
       "    </tr>\n",
       "    <tr>\n",
       "      <th>56</th>\n",
       "      <td>parsorbitalis R</td>\n",
       "      <td>rPOB</td>\n",
       "      <td>0.400</td>\n",
       "    </tr>\n",
       "    <tr>\n",
       "      <th>57</th>\n",
       "      <td>superiorparietal L</td>\n",
       "      <td>lSP</td>\n",
       "      <td>0.400</td>\n",
       "    </tr>\n",
       "    <tr>\n",
       "      <th>58</th>\n",
       "      <td>superiortemporal L</td>\n",
       "      <td>lST</td>\n",
       "      <td>0.395</td>\n",
       "    </tr>\n",
       "    <tr>\n",
       "      <th>59</th>\n",
       "      <td>inferiorparietal L</td>\n",
       "      <td>lIP</td>\n",
       "      <td>0.395</td>\n",
       "    </tr>\n",
       "    <tr>\n",
       "      <th>60</th>\n",
       "      <td>transversetemporal L</td>\n",
       "      <td>lTRANS</td>\n",
       "      <td>0.395</td>\n",
       "    </tr>\n",
       "    <tr>\n",
       "      <th>61</th>\n",
       "      <td>temporalpole R</td>\n",
       "      <td>rTP</td>\n",
       "      <td>0.390</td>\n",
       "    </tr>\n",
       "    <tr>\n",
       "      <th>62</th>\n",
       "      <td>inferiorparietal L</td>\n",
       "      <td>lIP</td>\n",
       "      <td>0.390</td>\n",
       "    </tr>\n",
       "    <tr>\n",
       "      <th>63</th>\n",
       "      <td>rostralmiddlefrontal L</td>\n",
       "      <td>lRMF</td>\n",
       "      <td>0.385</td>\n",
       "    </tr>\n",
       "    <tr>\n",
       "      <th>64</th>\n",
       "      <td>caudalmiddlefrontal R</td>\n",
       "      <td>rCMF</td>\n",
       "      <td>0.380</td>\n",
       "    </tr>\n",
       "    <tr>\n",
       "      <th>65</th>\n",
       "      <td>rostralmiddlefrontal R</td>\n",
       "      <td>rRMF</td>\n",
       "      <td>0.380</td>\n",
       "    </tr>\n",
       "    <tr>\n",
       "      <th>66</th>\n",
       "      <td>rostralmiddlefrontal L</td>\n",
       "      <td>lRMF</td>\n",
       "      <td>0.380</td>\n",
       "    </tr>\n",
       "    <tr>\n",
       "      <th>67</th>\n",
       "      <td>inferiorparietal R</td>\n",
       "      <td>rIP</td>\n",
       "      <td>0.380</td>\n",
       "    </tr>\n",
       "    <tr>\n",
       "      <th>68</th>\n",
       "      <td>precentral R</td>\n",
       "      <td>rPRC</td>\n",
       "      <td>0.380</td>\n",
       "    </tr>\n",
       "    <tr>\n",
       "      <th>69</th>\n",
       "      <td>NaN</td>\n",
       "      <td>NaN</td>\n",
       "      <td>0.375</td>\n",
       "    </tr>\n",
       "    <tr>\n",
       "      <th>70</th>\n",
       "      <td>NaN</td>\n",
       "      <td>NaN</td>\n",
       "      <td>0.375</td>\n",
       "    </tr>\n",
       "    <tr>\n",
       "      <th>71</th>\n",
       "      <td>NaN</td>\n",
       "      <td>NaN</td>\n",
       "      <td>0.370</td>\n",
       "    </tr>\n",
       "    <tr>\n",
       "      <th>72</th>\n",
       "      <td>NaN</td>\n",
       "      <td>NaN</td>\n",
       "      <td>0.370</td>\n",
       "    </tr>\n",
       "    <tr>\n",
       "      <th>73</th>\n",
       "      <td>NaN</td>\n",
       "      <td>NaN</td>\n",
       "      <td>0.370</td>\n",
       "    </tr>\n",
       "    <tr>\n",
       "      <th>74</th>\n",
       "      <td>NaN</td>\n",
       "      <td>NaN</td>\n",
       "      <td>0.365</td>\n",
       "    </tr>\n",
       "  </tbody>\n",
       "</table>\n",
       "<p>75 rows × 3 columns</p>\n",
       "</div>"
      ],
      "text/plain": [
       "                      Fullname ROIs short name   Feature score\n",
       "0               temporalpole R             rTP           0.845\n",
       "1                   fusiform R            rFUS           0.810\n",
       "2                 precentral R            rPRC           0.680\n",
       "3                 precentral L            lPRC           0.665\n",
       "4           superiorparietal L             lSP           0.625\n",
       "5        caudalmiddlefrontal R            rCMF           0.560\n",
       "6               temporalpole L             lTP           0.550\n",
       "7           isthmuscingulate R            rIST           0.535\n",
       "8         posteriorcingulate R            rPCG           0.535\n",
       "9        caudalmiddlefrontal L            ICMF           0.520\n",
       "10              temporalpole R             rTP           0.520\n",
       "11                  bankssts L            lBKS           0.515\n",
       "12             supramarginal L          lSUPRA           0.515\n",
       "13                  bankssts L            lBKS           0.505\n",
       "14          inferiorparietal R             rIP           0.500\n",
       "15                 precuneus L           lPREC           0.500\n",
       "16                   lingual R            rLIN           0.495\n",
       "17       caudalmiddlefrontal L            ICMF           0.485\n",
       "18       caudalmiddlefrontal L            ICMF           0.485\n",
       "19  rostralanteriorcingulate R            rRAC           0.480\n",
       "20          isthmuscingulate R            rIST           0.480\n",
       "21                  bankssts L            lBKS           0.480\n",
       "22           parahippocampal L           lPHIP           0.480\n",
       "23          superiorparietal L             lSP           0.480\n",
       "24          superiortemporal L             lST           0.470\n",
       "25          lateraloccipital R             rLO           0.470\n",
       "26            middletemporal L             lMT           0.470\n",
       "27       caudalmiddlefrontal R            rCMF           0.465\n",
       "28                precentral R            rPRC           0.465\n",
       "29          inferiorparietal L             lIP           0.460\n",
       "..                         ...             ...             ...\n",
       "45              temporalpole R             rTP           0.420\n",
       "46                precentral R            rPRC           0.415\n",
       "47               postcentral L            lPOC           0.415\n",
       "48          inferiorparietal L             lIP           0.415\n",
       "49            middletemporal L             lMT           0.410\n",
       "50             supramarginal L          lSUPRA           0.405\n",
       "51       caudalmiddlefrontal L            ICMF           0.405\n",
       "52              temporalpole L             lTP           0.405\n",
       "53               postcentral L            lPOC           0.400\n",
       "54                 precuneus L           lPREC           0.400\n",
       "55                    cuneus R            rCUN           0.400\n",
       "56             parsorbitalis R            rPOB           0.400\n",
       "57          superiorparietal L             lSP           0.400\n",
       "58          superiortemporal L             lST           0.395\n",
       "59          inferiorparietal L             lIP           0.395\n",
       "60        transversetemporal L          lTRANS           0.395\n",
       "61              temporalpole R             rTP           0.390\n",
       "62          inferiorparietal L             lIP           0.390\n",
       "63      rostralmiddlefrontal L            lRMF           0.385\n",
       "64       caudalmiddlefrontal R            rCMF           0.380\n",
       "65      rostralmiddlefrontal R            rRMF           0.380\n",
       "66      rostralmiddlefrontal L            lRMF           0.380\n",
       "67          inferiorparietal R             rIP           0.380\n",
       "68                precentral R            rPRC           0.380\n",
       "69                         NaN             NaN           0.375\n",
       "70                         NaN             NaN           0.375\n",
       "71                         NaN             NaN           0.370\n",
       "72                         NaN             NaN           0.370\n",
       "73                         NaN             NaN           0.370\n",
       "74                         NaN             NaN           0.365\n",
       "\n",
       "[75 rows x 3 columns]"
      ]
     },
     "execution_count": 58,
     "metadata": {},
     "output_type": "execute_result"
    }
   ],
   "source": [
    "nor1=75\n",
    "sc=pd.DataFrame(bb[0:nor1,0])\n",
    "sn=pd.concat([Toprois,sToprois,sc],axis=1)\n",
    "sn.columns=['Fullname','ROIs short name', ' Feature score'] # sn: score and roi\n",
    "# ddd=pd.DataFrame(bb[0:16,0],sToprois)\n",
    "sn"
   ]
  },
  {
   "cell_type": "code",
   "execution_count": 59,
   "metadata": {},
   "outputs": [
    {
     "data": {
      "text/html": [
       "<div>\n",
       "<style scoped>\n",
       "    .dataframe tbody tr th:only-of-type {\n",
       "        vertical-align: middle;\n",
       "    }\n",
       "\n",
       "    .dataframe tbody tr th {\n",
       "        vertical-align: top;\n",
       "    }\n",
       "\n",
       "    .dataframe thead th {\n",
       "        text-align: right;\n",
       "    }\n",
       "</style>\n",
       "<table border=\"1\" class=\"dataframe\">\n",
       "  <thead>\n",
       "    <tr style=\"text-align: right;\">\n",
       "      <th></th>\n",
       "      <th>0</th>\n",
       "      <th>1</th>\n",
       "      <th>2</th>\n",
       "    </tr>\n",
       "  </thead>\n",
       "  <tbody>\n",
       "    <tr>\n",
       "      <th>0</th>\n",
       "      <td>temporalpole R</td>\n",
       "      <td>rTP</td>\n",
       "      <td>0.845</td>\n",
       "    </tr>\n",
       "    <tr>\n",
       "      <th>1</th>\n",
       "      <td>fusiform R</td>\n",
       "      <td>rFUS</td>\n",
       "      <td>0.81</td>\n",
       "    </tr>\n",
       "    <tr>\n",
       "      <th>2</th>\n",
       "      <td>precentral R</td>\n",
       "      <td>rPRC</td>\n",
       "      <td>0.68</td>\n",
       "    </tr>\n",
       "    <tr>\n",
       "      <th>3</th>\n",
       "      <td>precentral L</td>\n",
       "      <td>lPRC</td>\n",
       "      <td>0.665</td>\n",
       "    </tr>\n",
       "    <tr>\n",
       "      <th>4</th>\n",
       "      <td>superiorparietal L</td>\n",
       "      <td>lSP</td>\n",
       "      <td>0.625</td>\n",
       "    </tr>\n",
       "    <tr>\n",
       "      <th>5</th>\n",
       "      <td>caudalmiddlefrontal R</td>\n",
       "      <td>rCMF</td>\n",
       "      <td>0.56</td>\n",
       "    </tr>\n",
       "    <tr>\n",
       "      <th>6</th>\n",
       "      <td>temporalpole L</td>\n",
       "      <td>lTP</td>\n",
       "      <td>0.55</td>\n",
       "    </tr>\n",
       "    <tr>\n",
       "      <th>7</th>\n",
       "      <td>isthmuscingulate R</td>\n",
       "      <td>rIST</td>\n",
       "      <td>0.535</td>\n",
       "    </tr>\n",
       "    <tr>\n",
       "      <th>8</th>\n",
       "      <td>posteriorcingulate R</td>\n",
       "      <td>rPCG</td>\n",
       "      <td>0.535</td>\n",
       "    </tr>\n",
       "    <tr>\n",
       "      <th>9</th>\n",
       "      <td>caudalmiddlefrontal L</td>\n",
       "      <td>ICMF</td>\n",
       "      <td>0.52</td>\n",
       "    </tr>\n",
       "    <tr>\n",
       "      <th>10</th>\n",
       "      <td>bankssts L</td>\n",
       "      <td>lBKS</td>\n",
       "      <td>0.515</td>\n",
       "    </tr>\n",
       "    <tr>\n",
       "      <th>11</th>\n",
       "      <td>supramarginal L</td>\n",
       "      <td>lSUPRA</td>\n",
       "      <td>0.515</td>\n",
       "    </tr>\n",
       "    <tr>\n",
       "      <th>12</th>\n",
       "      <td>inferiorparietal R</td>\n",
       "      <td>rIP</td>\n",
       "      <td>0.5</td>\n",
       "    </tr>\n",
       "    <tr>\n",
       "      <th>13</th>\n",
       "      <td>precuneus L</td>\n",
       "      <td>lPREC</td>\n",
       "      <td>0.5</td>\n",
       "    </tr>\n",
       "    <tr>\n",
       "      <th>14</th>\n",
       "      <td>lingual R</td>\n",
       "      <td>rLIN</td>\n",
       "      <td>0.495</td>\n",
       "    </tr>\n",
       "    <tr>\n",
       "      <th>15</th>\n",
       "      <td>rostralanteriorcingulate R</td>\n",
       "      <td>rRAC</td>\n",
       "      <td>0.48</td>\n",
       "    </tr>\n",
       "    <tr>\n",
       "      <th>16</th>\n",
       "      <td>parahippocampal L</td>\n",
       "      <td>lPHIP</td>\n",
       "      <td>0.48</td>\n",
       "    </tr>\n",
       "    <tr>\n",
       "      <th>17</th>\n",
       "      <td>superiortemporal L</td>\n",
       "      <td>lST</td>\n",
       "      <td>0.47</td>\n",
       "    </tr>\n",
       "    <tr>\n",
       "      <th>18</th>\n",
       "      <td>lateraloccipital R</td>\n",
       "      <td>rLO</td>\n",
       "      <td>0.47</td>\n",
       "    </tr>\n",
       "    <tr>\n",
       "      <th>19</th>\n",
       "      <td>middletemporal L</td>\n",
       "      <td>lMT</td>\n",
       "      <td>0.47</td>\n",
       "    </tr>\n",
       "    <tr>\n",
       "      <th>20</th>\n",
       "      <td>inferiorparietal L</td>\n",
       "      <td>lIP</td>\n",
       "      <td>0.46</td>\n",
       "    </tr>\n",
       "    <tr>\n",
       "      <th>21</th>\n",
       "      <td>parsorbitalis R</td>\n",
       "      <td>rPOB</td>\n",
       "      <td>0.46</td>\n",
       "    </tr>\n",
       "    <tr>\n",
       "      <th>22</th>\n",
       "      <td>bankssts R</td>\n",
       "      <td>rBKS</td>\n",
       "      <td>0.45</td>\n",
       "    </tr>\n",
       "    <tr>\n",
       "      <th>23</th>\n",
       "      <td>lateralorbitofrontal R</td>\n",
       "      <td>rLOF</td>\n",
       "      <td>0.45</td>\n",
       "    </tr>\n",
       "    <tr>\n",
       "      <th>24</th>\n",
       "      <td>caudalanteriorcingulate R</td>\n",
       "      <td>rCAC</td>\n",
       "      <td>0.445</td>\n",
       "    </tr>\n",
       "    <tr>\n",
       "      <th>25</th>\n",
       "      <td>rostralmiddlefrontal L</td>\n",
       "      <td>lRMF</td>\n",
       "      <td>0.445</td>\n",
       "    </tr>\n",
       "    <tr>\n",
       "      <th>26</th>\n",
       "      <td>inferiortemporal L</td>\n",
       "      <td>lIT</td>\n",
       "      <td>0.445</td>\n",
       "    </tr>\n",
       "    <tr>\n",
       "      <th>27</th>\n",
       "      <td>pericalcarine R</td>\n",
       "      <td>rPERI</td>\n",
       "      <td>0.435</td>\n",
       "    </tr>\n",
       "    <tr>\n",
       "      <th>28</th>\n",
       "      <td>isthmuscingulate L</td>\n",
       "      <td>lIST</td>\n",
       "      <td>0.43</td>\n",
       "    </tr>\n",
       "    <tr>\n",
       "      <th>29</th>\n",
       "      <td>entorhinal R</td>\n",
       "      <td>rENT</td>\n",
       "      <td>0.43</td>\n",
       "    </tr>\n",
       "    <tr>\n",
       "      <th>30</th>\n",
       "      <td>postcentral L</td>\n",
       "      <td>lPOC</td>\n",
       "      <td>0.415</td>\n",
       "    </tr>\n",
       "    <tr>\n",
       "      <th>31</th>\n",
       "      <td>cuneus R</td>\n",
       "      <td>rCUN</td>\n",
       "      <td>0.4</td>\n",
       "    </tr>\n",
       "    <tr>\n",
       "      <th>32</th>\n",
       "      <td>transversetemporal L</td>\n",
       "      <td>lTRANS</td>\n",
       "      <td>0.395</td>\n",
       "    </tr>\n",
       "    <tr>\n",
       "      <th>33</th>\n",
       "      <td>rostralmiddlefrontal R</td>\n",
       "      <td>rRMF</td>\n",
       "      <td>0.38</td>\n",
       "    </tr>\n",
       "    <tr>\n",
       "      <th>34</th>\n",
       "      <td>NaN</td>\n",
       "      <td>NaN</td>\n",
       "      <td>0.375</td>\n",
       "    </tr>\n",
       "  </tbody>\n",
       "</table>\n",
       "</div>"
      ],
      "text/plain": [
       "                             0       1      2\n",
       "0               temporalpole R     rTP  0.845\n",
       "1                   fusiform R    rFUS   0.81\n",
       "2                 precentral R    rPRC   0.68\n",
       "3                 precentral L    lPRC  0.665\n",
       "4           superiorparietal L     lSP  0.625\n",
       "5        caudalmiddlefrontal R    rCMF   0.56\n",
       "6               temporalpole L     lTP   0.55\n",
       "7           isthmuscingulate R    rIST  0.535\n",
       "8         posteriorcingulate R    rPCG  0.535\n",
       "9        caudalmiddlefrontal L    ICMF   0.52\n",
       "10                  bankssts L    lBKS  0.515\n",
       "11             supramarginal L  lSUPRA  0.515\n",
       "12          inferiorparietal R     rIP    0.5\n",
       "13                 precuneus L   lPREC    0.5\n",
       "14                   lingual R    rLIN  0.495\n",
       "15  rostralanteriorcingulate R    rRAC   0.48\n",
       "16           parahippocampal L   lPHIP   0.48\n",
       "17          superiortemporal L     lST   0.47\n",
       "18          lateraloccipital R     rLO   0.47\n",
       "19            middletemporal L     lMT   0.47\n",
       "20          inferiorparietal L     lIP   0.46\n",
       "21             parsorbitalis R    rPOB   0.46\n",
       "22                  bankssts R    rBKS   0.45\n",
       "23      lateralorbitofrontal R    rLOF   0.45\n",
       "24   caudalanteriorcingulate R    rCAC  0.445\n",
       "25      rostralmiddlefrontal L    lRMF  0.445\n",
       "26          inferiortemporal L     lIT  0.445\n",
       "27             pericalcarine R   rPERI  0.435\n",
       "28          isthmuscingulate L    lIST   0.43\n",
       "29                entorhinal R    rENT   0.43\n",
       "30               postcentral L    lPOC  0.415\n",
       "31                    cuneus R    rCUN    0.4\n",
       "32        transversetemporal L  lTRANS  0.395\n",
       "33      rostralmiddlefrontal R    rRMF   0.38\n",
       "34                         NaN     NaN  0.375"
      ]
     },
     "execution_count": 59,
     "metadata": {},
     "output_type": "execute_result"
    }
   ],
   "source": [
    "allrois=sn.drop_duplicates(subset=['Fullname']) # Drop the duplicate name \n",
    "alluR=pd.DataFrame(allrois.values) #alluR is the unique ROIs\n",
    "alluR"
   ]
  },
  {
   "cell_type": "code",
   "execution_count": 60,
   "metadata": {},
   "outputs": [],
   "source": [
    "# alluR.to_csv('Top14.csv')"
   ]
  },
  {
   "cell_type": "code",
   "execution_count": 61,
   "metadata": {},
   "outputs": [],
   "source": [
    "# alluR"
   ]
  },
  {
   "cell_type": "code",
   "execution_count": 62,
   "metadata": {},
   "outputs": [
    {
     "data": {
      "text/plain": [
       "1428"
      ]
     },
     "execution_count": 62,
     "metadata": {},
     "output_type": "execute_result"
    }
   ],
   "source": [
    "len(clf.scores_)"
   ]
  },
  {
   "cell_type": "markdown",
   "metadata": {},
   "source": [
    "# AllROIs_stability selection_score"
   ]
  },
  {
   "cell_type": "code",
   "execution_count": 63,
   "metadata": {},
   "outputs": [
    {
     "data": {
      "image/png": "[encoded data removed]",
      "text/plain": [
       "<Figure size 432x288 with 1 Axes>"
      ]
     },
     "metadata": {
      "needs_background": "light"
     },
     "output_type": "display_data"
    }
   ],
   "source": [
    "g=clf.scores_\n",
    "allROIs=range(0,68)\n",
    "x=[];\n",
    "for i in allROIs:\n",
    "#     print i\n",
    "    r=np.arange(i,1428,68)\n",
    "    l=np.int_(r)\n",
    "#     ll=g[r]\n",
    "    ll=g[l]\n",
    "    x.append(ll)\n",
    "hh=pd.DataFrame(x)  \n",
    "t=np.linspace(0,200,21)\n",
    "yu=hh.values\n",
    "# yu=hh.values[[0,1,2,3,4,16],:]\n",
    "plt.plot(t,yu.T)\n",
    "plt.xlim(0, 200)\n",
    "plt.ylim(0,1)\n",
    "plt.grid(True)\n",
    "plt.ylabel(\"Stability scores\")\n",
    "plt.xlabel(\"Epoch time (ms)\")\n",
    "plt.title(\"Clear_all\")\n",
    "# plt.legend(leg)\n",
    "plt.show()"
   ]
  },
  {
   "cell_type": "code",
   "execution_count": 64,
   "metadata": {},
   "outputs": [
    {
     "data": {
      "image/png": "[encoded data removed]",
      "text/plain": [
       "<Figure size 432x288 with 1 Axes>"
      ]
     },
     "metadata": {
      "needs_background": "light"
     },
     "output_type": "display_data"
    }
   ],
   "source": [
    "t=np.linspace(0,200,21)\n",
    "yu=hh.values\n",
    "# yu=hh.values[[0,1,2,3,4,16],:]\n",
    "plt.plot(t,yu.T)\n",
    "plt.xlim(0, 200)\n",
    "plt.ylim(0,1)\n",
    "plt.grid(True)\n",
    "plt.ylabel(\"Stability scores\")\n",
    "plt.xlabel(\"Epoch time (ms)\")\n",
    "plt.show()"
   ]
  },
  {
   "cell_type": "markdown",
   "metadata": {},
   "source": [
    "# Top score selected ROIs"
   ]
  },
  {
   "cell_type": "code",
   "execution_count": 65,
   "metadata": {},
   "outputs": [
    {
     "data": {
      "image/png": "[encoded data removed]",
      "text/plain": [
       "<Figure size 432x288 with 1 Axes>"
      ]
     },
     "metadata": {
      "needs_background": "light"
     },
     "output_type": "display_data"
    }
   ],
   "source": [
    "leg=['rTP','rFUS', 'rPRC','lPRC','lSP']\n",
    "x=[];\n",
    "for i in ROIs:\n",
    "#     print i\n",
    "    r=np.arange(i,1428,68)\n",
    "    l=np.int_(r)\n",
    "#     ll=g[r]\n",
    "    ll=g[l]\n",
    "    x.append(ll)\n",
    "hh=pd.DataFrame(x)  \n",
    "t=np.linspace(0,200,21)\n",
    "yu=hh.values\n",
    "# yu=hh.values[0:9,:]\n",
    "# yu=hh.values[[0,1,2,3,4],:]\n",
    "plt.plot(t,yu.T)\n",
    "plt.xlim(0, 200)\n",
    "plt.ylim(0,1)\n",
    "plt.grid(True)\n",
    "plt.ylabel(\"Stability scores\")\n",
    "plt.xlabel(\"Epoch time (ms)\")\n",
    "plt.title(\"Clear\")\n",
    "# plt.legend(leg)\n",
    "plt.show()"
   ]
  },
  {
   "cell_type": "code",
   "execution_count": 66,
   "metadata": {},
   "outputs": [
    {
     "data": {
      "image/png": "[encoded data removed]",
      "text/plain": [
       "<Figure size 432x288 with 1 Axes>"
      ]
     },
     "metadata": {
      "needs_background": "light"
     },
     "output_type": "display_data"
    }
   ],
   "source": [
    "leg=['rTP','rFUS', 'rPRC','lPRC','lSP']\n",
    "x=[];\n",
    "for i in ROIs:\n",
    "#     print i\n",
    "    r=np.arange(i,1428,68)\n",
    "    l=np.int_(r)\n",
    "#     ll=g[r]\n",
    "    ll=g[l]\n",
    "    x.append(ll)\n",
    "hh=pd.DataFrame(x)  \n",
    "t=np.linspace(0,200,21)\n",
    "yu=hh.values\n",
    "# yu=hh.values[0:9,:]\n",
    "yu=hh.values[[0,1,2,3,4],:]\n",
    "plt.plot(t,yu.T)\n",
    "plt.xlim(0, 200)\n",
    "plt.ylim(0,1)\n",
    "# plt.ylim(0.5,1)\n",
    "plt.grid(True)\n",
    "plt.ylabel(\"Stability scores\")\n",
    "plt.xlabel(\"Epoch time (ms)\")\n",
    "plt.title(\"Clear\")\n",
    "plt.legend(leg)\n",
    "plt.show()"
   ]
  },
  {
   "cell_type": "code",
   "execution_count": 67,
   "metadata": {},
   "outputs": [
    {
     "data": {
      "image/png": "[encoded data removed]",
      "text/plain": [
       "<Figure size 432x288 with 1 Axes>"
      ]
     },
     "metadata": {
      "needs_background": "light"
     },
     "output_type": "display_data"
    }
   ],
   "source": [
    "leg=['rTP','rFUS', 'rPRC','lPRC','lSP']\n",
    "x=[];\n",
    "for i in ROIs:\n",
    "#     print i\n",
    "    r=np.arange(i,1428,68)\n",
    "    l=np.int_(r)\n",
    "#     ll=g[r]\n",
    "    ll=g[l]\n",
    "    x.append(ll)\n",
    "hh=pd.DataFrame(x)  \n",
    "t=np.linspace(0,200,21)\n",
    "yu=hh.values\n",
    "# yu=hh.values[0:9,:]\n",
    "yu=hh.values[[0,1,2],:]\n",
    "plt.plot(t,yu.T)\n",
    "plt.xlim(0, 200)\n",
    "plt.ylim(top=1)\n",
    "# plt.ylim(0.50,1)\n",
    "plt.grid(True)\n",
    "plt.ylabel(\"Stability scores\")\n",
    "plt.xlabel(\"Epoch time (ms)\")\n",
    "plt.title(\"Clear\")\n",
    "plt.legend(leg)\n",
    "plt.show()"
   ]
  },
  {
   "cell_type": "code",
   "execution_count": 68,
   "metadata": {},
   "outputs": [],
   "source": [
    "ROIs=range(0,68)\n",
    "x=[];\n",
    "for i in ROIs:\n",
    "#     print i\n",
    "    r=np.arange(i,1428,68)\n",
    "    l=np.int_(r)\n",
    "#     ll=g[r]\n",
    "    ll=g[l]\n",
    "    x.append(ll)\n",
    "hh=pd.DataFrame(x) "
   ]
  },
  {
   "cell_type": "code",
   "execution_count": 69,
   "metadata": {},
   "outputs": [
    {
     "data": {
      "text/plain": [
       "array([0.   , 0.   , 0.255, 0.81 , 0.015, 0.04 , 0.04 , 0.   , 0.   ,\n",
       "       0.   , 0.085, 0.   , 0.015, 0.035, 0.   , 0.   , 0.08 , 0.01 ,\n",
       "       0.355, 0.   , 0.   ])"
      ]
     },
     "execution_count": 69,
     "metadata": {},
     "output_type": "execute_result"
    }
   ],
   "source": [
    "yu[1,:]"
   ]
  }
 ],
 "metadata": {
  "kernelspec": {
   "display_name": "Python 3",
   "language": "python",
   "name": "python3"
  },
  "language_info": {
   "codemirror_mode": {
    "name": "ipython",
    "version": 3
   },
   "file_extension": ".py",
   "mimetype": "text/x-python",
   "name": "python",
   "nbconvert_exporter": "python",
   "pygments_lexer": "ipython3",
   "version": "3.7.3"
  }
 },
 "nbformat": 4,
 "nbformat_minor": 2
}
